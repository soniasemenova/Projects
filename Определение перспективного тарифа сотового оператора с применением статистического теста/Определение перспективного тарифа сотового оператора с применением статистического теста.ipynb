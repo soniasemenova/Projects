{
 "cells": [
  {
   "cell_type": "markdown",
   "metadata": {},
   "source": [
    "# Проект 3: Сравнение тарифов \"Смарт\" и \"Ультра\" компании \"Мегалайн\""
   ]
  },
  {
   "cell_type": "markdown",
   "metadata": {},
   "source": [
    "### Цель:\n",
    "Необходимо проанализировать поведение клиентов и сделать вывод — какой тариф лучше.\n",
    "\n",
    "### Описание тарифов:\n",
    "\n",
    "#### Тариф «Смарт»\n",
    "1.\tЕжемесячная плата: 550 рублей\n",
    "2.\tВключено 500 минут разговора, 50 сообщений и 15 Гб интернет-трафика\n",
    "3.\tСтоимость услуг сверх тарифного пакета:\n",
    "    - минута разговора: 3 рубля\n",
    "    - сообщение: 3 рубля\n",
    "    - 1 Гб интернет-трафика: 200 рублей\n",
    "\n",
    "#### Тариф «Ультра»\n",
    "\n",
    "1.\tЕжемесячная плата: 1950 рублей\n",
    "2.\tВключено 3000 минут разговора, 1000 сообщений и 30 Гб интернет-трафика\n",
    "3.\tСтоимость услуг сверх тарифного пакета:\n",
    "    - минута разговора: 1 рубль\n",
    "    - сообщение: 1 рубль\n",
    "    - 1 Гб интернет-трафика: 150 рублей\n"
   ]
  },
  {
   "cell_type": "markdown",
   "metadata": {},
   "source": [
    "### Описание данных:\n",
    "\n",
    "##### Таблица users (информация о пользователях):\n",
    "- user_id — уникальный идентификатор пользователя\n",
    "- first_name — имя пользователя\n",
    "- last_name — фамилия пользователя\n",
    "- age — возраст пользователя (годы)\n",
    "- reg_date — дата подключения тарифа (день, месяц, год)\n",
    "- churn_date — дата прекращения пользования тарифом (если значение пропущено, то тариф ещё действовал на момент выгрузки данных)\n",
    "- city — город проживания пользователя\n",
    "- tariff — название тарифного плана\n",
    "\n",
    "##### Таблица calls (информация о звонках):\n",
    "- id — уникальный номер звонка\n",
    "- call_date — дата звонка\n",
    "- duration — длительность звонка в минутах\n",
    "- user_id — идентификатор пользователя, сделавшего звонок\n",
    "\n",
    "##### Таблица messages (информация о сообщениях):\n",
    "- id — уникальный номер сообщения\n",
    "- message_date — дата сообщения\n",
    "- user_id — идентификатор пользователя, отправившего сообщение\n",
    "\n",
    "##### Таблица internet (информация об интернет-сессиях):\n",
    "- id — уникальный номер сессии\n",
    "- mb_used — объём потраченного за сессию интернет-трафика (в мегабайтах)\n",
    "- session_date — дата интернет-сессии\n",
    "- user_id — идентификатор пользователя\n",
    "\n",
    "##### Таблица tariffs (информация о тарифах):\n",
    "- tariff_name — название тарифа\n",
    "- rub_monthly_fee — ежемесячная абонентская плата в рублях\n",
    "- minutes_included — количество минут разговора в месяц, включённых в абонентскую плату\n",
    "- messages_included — количество сообщений в месяц, включённых в абонентскую плату\n",
    "- mb_per_month_included — объём интернет-трафика, включённого в абонентскую плату (в мегабайтах)\n",
    "- rub_per_minute — стоимость минуты разговора сверх тарифного пакета (например, если в тарифе 100 минут разговора в месяц, то со 101 минуты будет взиматься плата)\n",
    "- rub_per_message — стоимость отправки сообщения сверх тарифного пакета\n",
    "- rub_per_gb — стоимость дополнительного гигабайта интернет-трафика сверх тарифного пакета (1 гигабайт = 1024 мегабайта)\n"
   ]
  },
  {
   "cell_type": "code",
   "execution_count": 1,
   "metadata": {},
   "outputs": [],
   "source": [
    "import pandas as pd\n",
    "import numpy as np\n",
    "import matplotlib.pyplot as plt\n",
    "from scipy import stats as st\n",
    "from math import factorial\n",
    "import math"
   ]
  },
  {
   "cell_type": "markdown",
   "metadata": {},
   "source": [
    "### <span style=\"color:blue\"> Шаг 1: Чтение файлов и сводная информация<span>"
   ]
  },
  {
   "cell_type": "markdown",
   "metadata": {},
   "source": [
    "#### Таблица с информацией о звонках"
   ]
  },
  {
   "cell_type": "code",
   "execution_count": 2,
   "metadata": {},
   "outputs": [
    {
     "name": "stdout",
     "output_type": "stream",
     "text": [
      "<class 'pandas.core.frame.DataFrame'>\n",
      "RangeIndex: 202607 entries, 0 to 202606\n",
      "Data columns (total 4 columns):\n",
      "id           202607 non-null object\n",
      "call_date    202607 non-null object\n",
      "duration     202607 non-null float64\n",
      "user_id      202607 non-null int64\n",
      "dtypes: float64(1), int64(1), object(2)\n",
      "memory usage: 6.2+ MB\n"
     ]
    },
    {
     "data": {
      "text/html": [
       "<div>\n",
       "<style scoped>\n",
       "    .dataframe tbody tr th:only-of-type {\n",
       "        vertical-align: middle;\n",
       "    }\n",
       "\n",
       "    .dataframe tbody tr th {\n",
       "        vertical-align: top;\n",
       "    }\n",
       "\n",
       "    .dataframe thead th {\n",
       "        text-align: right;\n",
       "    }\n",
       "</style>\n",
       "<table border=\"1\" class=\"dataframe\">\n",
       "  <thead>\n",
       "    <tr style=\"text-align: right;\">\n",
       "      <th></th>\n",
       "      <th>id</th>\n",
       "      <th>call_date</th>\n",
       "      <th>duration</th>\n",
       "      <th>user_id</th>\n",
       "    </tr>\n",
       "  </thead>\n",
       "  <tbody>\n",
       "    <tr>\n",
       "      <td>77976</td>\n",
       "      <td>1196_208</td>\n",
       "      <td>2018-11-10</td>\n",
       "      <td>11.43</td>\n",
       "      <td>1196</td>\n",
       "    </tr>\n",
       "    <tr>\n",
       "      <td>122404</td>\n",
       "      <td>1316_25</td>\n",
       "      <td>2018-12-27</td>\n",
       "      <td>3.46</td>\n",
       "      <td>1316</td>\n",
       "    </tr>\n",
       "    <tr>\n",
       "      <td>161806</td>\n",
       "      <td>1396_507</td>\n",
       "      <td>2018-08-20</td>\n",
       "      <td>12.70</td>\n",
       "      <td>1396</td>\n",
       "    </tr>\n",
       "    <tr>\n",
       "      <td>30288</td>\n",
       "      <td>1076_580</td>\n",
       "      <td>2018-07-04</td>\n",
       "      <td>0.00</td>\n",
       "      <td>1076</td>\n",
       "    </tr>\n",
       "    <tr>\n",
       "      <td>44681</td>\n",
       "      <td>1113_97</td>\n",
       "      <td>2018-09-20</td>\n",
       "      <td>13.22</td>\n",
       "      <td>1113</td>\n",
       "    </tr>\n",
       "  </tbody>\n",
       "</table>\n",
       "</div>"
      ],
      "text/plain": [
       "              id   call_date  duration  user_id\n",
       "77976   1196_208  2018-11-10     11.43     1196\n",
       "122404   1316_25  2018-12-27      3.46     1316\n",
       "161806  1396_507  2018-08-20     12.70     1396\n",
       "30288   1076_580  2018-07-04      0.00     1076\n",
       "44681    1113_97  2018-09-20     13.22     1113"
      ]
     },
     "execution_count": 2,
     "metadata": {},
     "output_type": "execute_result"
    }
   ],
   "source": [
    "cal = pd.read_csv('/datasets/calls.csv')\n",
    "cal.info()\n",
    "cal.sample(5)"
   ]
  },
  {
   "cell_type": "markdown",
   "metadata": {},
   "source": [
    "#### Таблица с информацией об интернет сессиях"
   ]
  },
  {
   "cell_type": "code",
   "execution_count": 3,
   "metadata": {},
   "outputs": [
    {
     "name": "stdout",
     "output_type": "stream",
     "text": [
      "<class 'pandas.core.frame.DataFrame'>\n",
      "RangeIndex: 149396 entries, 0 to 149395\n",
      "Data columns (total 5 columns):\n",
      "Unnamed: 0      149396 non-null int64\n",
      "id              149396 non-null object\n",
      "mb_used         149396 non-null float64\n",
      "session_date    149396 non-null object\n",
      "user_id         149396 non-null int64\n",
      "dtypes: float64(1), int64(2), object(2)\n",
      "memory usage: 5.7+ MB\n"
     ]
    },
    {
     "data": {
      "text/html": [
       "<div>\n",
       "<style scoped>\n",
       "    .dataframe tbody tr th:only-of-type {\n",
       "        vertical-align: middle;\n",
       "    }\n",
       "\n",
       "    .dataframe tbody tr th {\n",
       "        vertical-align: top;\n",
       "    }\n",
       "\n",
       "    .dataframe thead th {\n",
       "        text-align: right;\n",
       "    }\n",
       "</style>\n",
       "<table border=\"1\" class=\"dataframe\">\n",
       "  <thead>\n",
       "    <tr style=\"text-align: right;\">\n",
       "      <th></th>\n",
       "      <th>Unnamed: 0</th>\n",
       "      <th>id</th>\n",
       "      <th>mb_used</th>\n",
       "      <th>session_date</th>\n",
       "      <th>user_id</th>\n",
       "    </tr>\n",
       "  </thead>\n",
       "  <tbody>\n",
       "    <tr>\n",
       "      <td>146644</td>\n",
       "      <td>146644</td>\n",
       "      <td>1490_387</td>\n",
       "      <td>175.90</td>\n",
       "      <td>2018-05-04</td>\n",
       "      <td>1490</td>\n",
       "    </tr>\n",
       "    <tr>\n",
       "      <td>85140</td>\n",
       "      <td>85140</td>\n",
       "      <td>1290_170</td>\n",
       "      <td>376.24</td>\n",
       "      <td>2018-08-25</td>\n",
       "      <td>1290</td>\n",
       "    </tr>\n",
       "    <tr>\n",
       "      <td>51982</td>\n",
       "      <td>51982</td>\n",
       "      <td>1176_137</td>\n",
       "      <td>717.03</td>\n",
       "      <td>2018-09-15</td>\n",
       "      <td>1176</td>\n",
       "    </tr>\n",
       "    <tr>\n",
       "      <td>87019</td>\n",
       "      <td>87019</td>\n",
       "      <td>1294_361</td>\n",
       "      <td>434.91</td>\n",
       "      <td>2018-06-07</td>\n",
       "      <td>1294</td>\n",
       "    </tr>\n",
       "    <tr>\n",
       "      <td>43271</td>\n",
       "      <td>43271</td>\n",
       "      <td>1149_271</td>\n",
       "      <td>0.00</td>\n",
       "      <td>2018-08-28</td>\n",
       "      <td>1149</td>\n",
       "    </tr>\n",
       "  </tbody>\n",
       "</table>\n",
       "</div>"
      ],
      "text/plain": [
       "        Unnamed: 0        id  mb_used session_date  user_id\n",
       "146644      146644  1490_387   175.90   2018-05-04     1490\n",
       "85140        85140  1290_170   376.24   2018-08-25     1290\n",
       "51982        51982  1176_137   717.03   2018-09-15     1176\n",
       "87019        87019  1294_361   434.91   2018-06-07     1294\n",
       "43271        43271  1149_271     0.00   2018-08-28     1149"
      ]
     },
     "execution_count": 3,
     "metadata": {},
     "output_type": "execute_result"
    }
   ],
   "source": [
    "inet = pd.read_csv('/datasets/internet.csv')\n",
    "inet.info()\n",
    "inet.sample(5)"
   ]
  },
  {
   "cell_type": "code",
   "execution_count": 4,
   "metadata": {},
   "outputs": [],
   "source": [
    "#сразу удалю непонятный столбец, дублирующий индексы\n",
    "inet.drop(['Unnamed: 0'], axis='columns', inplace=True)"
   ]
  },
  {
   "cell_type": "markdown",
   "metadata": {},
   "source": [
    "#### Таблица с информацией о сообщениях"
   ]
  },
  {
   "cell_type": "code",
   "execution_count": 5,
   "metadata": {},
   "outputs": [
    {
     "name": "stdout",
     "output_type": "stream",
     "text": [
      "<class 'pandas.core.frame.DataFrame'>\n",
      "RangeIndex: 123036 entries, 0 to 123035\n",
      "Data columns (total 3 columns):\n",
      "id              123036 non-null object\n",
      "message_date    123036 non-null object\n",
      "user_id         123036 non-null int64\n",
      "dtypes: int64(1), object(2)\n",
      "memory usage: 2.8+ MB\n"
     ]
    },
    {
     "data": {
      "text/html": [
       "<div>\n",
       "<style scoped>\n",
       "    .dataframe tbody tr th:only-of-type {\n",
       "        vertical-align: middle;\n",
       "    }\n",
       "\n",
       "    .dataframe tbody tr th {\n",
       "        vertical-align: top;\n",
       "    }\n",
       "\n",
       "    .dataframe thead th {\n",
       "        text-align: right;\n",
       "    }\n",
       "</style>\n",
       "<table border=\"1\" class=\"dataframe\">\n",
       "  <thead>\n",
       "    <tr style=\"text-align: right;\">\n",
       "      <th></th>\n",
       "      <th>id</th>\n",
       "      <th>message_date</th>\n",
       "      <th>user_id</th>\n",
       "    </tr>\n",
       "  </thead>\n",
       "  <tbody>\n",
       "    <tr>\n",
       "      <td>122049</td>\n",
       "      <td>1495_224</td>\n",
       "      <td>2018-12-10</td>\n",
       "      <td>1495</td>\n",
       "    </tr>\n",
       "    <tr>\n",
       "      <td>21478</td>\n",
       "      <td>1091_31</td>\n",
       "      <td>2018-08-19</td>\n",
       "      <td>1091</td>\n",
       "    </tr>\n",
       "    <tr>\n",
       "      <td>20004</td>\n",
       "      <td>1089_7</td>\n",
       "      <td>2018-07-03</td>\n",
       "      <td>1089</td>\n",
       "    </tr>\n",
       "    <tr>\n",
       "      <td>36378</td>\n",
       "      <td>1158_183</td>\n",
       "      <td>2018-09-20</td>\n",
       "      <td>1158</td>\n",
       "    </tr>\n",
       "    <tr>\n",
       "      <td>46161</td>\n",
       "      <td>1200_56</td>\n",
       "      <td>2018-12-28</td>\n",
       "      <td>1200</td>\n",
       "    </tr>\n",
       "  </tbody>\n",
       "</table>\n",
       "</div>"
      ],
      "text/plain": [
       "              id message_date  user_id\n",
       "122049  1495_224   2018-12-10     1495\n",
       "21478    1091_31   2018-08-19     1091\n",
       "20004     1089_7   2018-07-03     1089\n",
       "36378   1158_183   2018-09-20     1158\n",
       "46161    1200_56   2018-12-28     1200"
      ]
     },
     "execution_count": 5,
     "metadata": {},
     "output_type": "execute_result"
    }
   ],
   "source": [
    "mes = pd.read_csv('/datasets/messages.csv')\n",
    "mes.info()\n",
    "mes.sample(5)"
   ]
  },
  {
   "cell_type": "markdown",
   "metadata": {},
   "source": [
    "#### Таблица с информацией о тарифах"
   ]
  },
  {
   "cell_type": "code",
   "execution_count": 6,
   "metadata": {},
   "outputs": [
    {
     "name": "stdout",
     "output_type": "stream",
     "text": [
      "<class 'pandas.core.frame.DataFrame'>\n",
      "RangeIndex: 2 entries, 0 to 1\n",
      "Data columns (total 8 columns):\n",
      "messages_included        2 non-null int64\n",
      "mb_per_month_included    2 non-null int64\n",
      "minutes_included         2 non-null int64\n",
      "rub_monthly_fee          2 non-null int64\n",
      "rub_per_gb               2 non-null int64\n",
      "rub_per_message          2 non-null int64\n",
      "rub_per_minute           2 non-null int64\n",
      "tariff_name              2 non-null object\n",
      "dtypes: int64(7), object(1)\n",
      "memory usage: 256.0+ bytes\n"
     ]
    },
    {
     "data": {
      "text/html": [
       "<div>\n",
       "<style scoped>\n",
       "    .dataframe tbody tr th:only-of-type {\n",
       "        vertical-align: middle;\n",
       "    }\n",
       "\n",
       "    .dataframe tbody tr th {\n",
       "        vertical-align: top;\n",
       "    }\n",
       "\n",
       "    .dataframe thead th {\n",
       "        text-align: right;\n",
       "    }\n",
       "</style>\n",
       "<table border=\"1\" class=\"dataframe\">\n",
       "  <thead>\n",
       "    <tr style=\"text-align: right;\">\n",
       "      <th></th>\n",
       "      <th>messages_included</th>\n",
       "      <th>mb_per_month_included</th>\n",
       "      <th>minutes_included</th>\n",
       "      <th>rub_monthly_fee</th>\n",
       "      <th>rub_per_gb</th>\n",
       "      <th>rub_per_message</th>\n",
       "      <th>rub_per_minute</th>\n",
       "      <th>tariff_name</th>\n",
       "    </tr>\n",
       "  </thead>\n",
       "  <tbody>\n",
       "    <tr>\n",
       "      <td>0</td>\n",
       "      <td>50</td>\n",
       "      <td>15360</td>\n",
       "      <td>500</td>\n",
       "      <td>550</td>\n",
       "      <td>200</td>\n",
       "      <td>3</td>\n",
       "      <td>3</td>\n",
       "      <td>smart</td>\n",
       "    </tr>\n",
       "    <tr>\n",
       "      <td>1</td>\n",
       "      <td>1000</td>\n",
       "      <td>30720</td>\n",
       "      <td>3000</td>\n",
       "      <td>1950</td>\n",
       "      <td>150</td>\n",
       "      <td>1</td>\n",
       "      <td>1</td>\n",
       "      <td>ultra</td>\n",
       "    </tr>\n",
       "  </tbody>\n",
       "</table>\n",
       "</div>"
      ],
      "text/plain": [
       "   messages_included  mb_per_month_included  minutes_included  \\\n",
       "0                 50                  15360               500   \n",
       "1               1000                  30720              3000   \n",
       "\n",
       "   rub_monthly_fee  rub_per_gb  rub_per_message  rub_per_minute tariff_name  \n",
       "0              550         200                3               3       smart  \n",
       "1             1950         150                1               1       ultra  "
      ]
     },
     "execution_count": 6,
     "metadata": {},
     "output_type": "execute_result"
    }
   ],
   "source": [
    "tar = pd.read_csv('/datasets/tariffs.csv')\n",
    "tar.info()\n",
    "tar.head()"
   ]
  },
  {
   "cell_type": "markdown",
   "metadata": {},
   "source": [
    "#### Таблица с информацией о пользователях"
   ]
  },
  {
   "cell_type": "code",
   "execution_count": 7,
   "metadata": {},
   "outputs": [
    {
     "name": "stdout",
     "output_type": "stream",
     "text": [
      "<class 'pandas.core.frame.DataFrame'>\n",
      "RangeIndex: 500 entries, 0 to 499\n",
      "Data columns (total 8 columns):\n",
      "user_id       500 non-null int64\n",
      "age           500 non-null int64\n",
      "churn_date    38 non-null object\n",
      "city          500 non-null object\n",
      "first_name    500 non-null object\n",
      "last_name     500 non-null object\n",
      "reg_date      500 non-null object\n",
      "tariff        500 non-null object\n",
      "dtypes: int64(2), object(6)\n",
      "memory usage: 31.4+ KB\n"
     ]
    },
    {
     "data": {
      "text/html": [
       "<div>\n",
       "<style scoped>\n",
       "    .dataframe tbody tr th:only-of-type {\n",
       "        vertical-align: middle;\n",
       "    }\n",
       "\n",
       "    .dataframe tbody tr th {\n",
       "        vertical-align: top;\n",
       "    }\n",
       "\n",
       "    .dataframe thead th {\n",
       "        text-align: right;\n",
       "    }\n",
       "</style>\n",
       "<table border=\"1\" class=\"dataframe\">\n",
       "  <thead>\n",
       "    <tr style=\"text-align: right;\">\n",
       "      <th></th>\n",
       "      <th>user_id</th>\n",
       "      <th>age</th>\n",
       "      <th>churn_date</th>\n",
       "      <th>city</th>\n",
       "      <th>first_name</th>\n",
       "      <th>last_name</th>\n",
       "      <th>reg_date</th>\n",
       "      <th>tariff</th>\n",
       "    </tr>\n",
       "  </thead>\n",
       "  <tbody>\n",
       "    <tr>\n",
       "      <td>168</td>\n",
       "      <td>1168</td>\n",
       "      <td>28</td>\n",
       "      <td>NaN</td>\n",
       "      <td>Кострома</td>\n",
       "      <td>Лилия</td>\n",
       "      <td>Ананьева</td>\n",
       "      <td>2018-01-24</td>\n",
       "      <td>ultra</td>\n",
       "    </tr>\n",
       "    <tr>\n",
       "      <td>148</td>\n",
       "      <td>1148</td>\n",
       "      <td>23</td>\n",
       "      <td>NaN</td>\n",
       "      <td>Тольятти</td>\n",
       "      <td>Евдокия</td>\n",
       "      <td>Киреева</td>\n",
       "      <td>2018-04-17</td>\n",
       "      <td>ultra</td>\n",
       "    </tr>\n",
       "    <tr>\n",
       "      <td>273</td>\n",
       "      <td>1273</td>\n",
       "      <td>46</td>\n",
       "      <td>NaN</td>\n",
       "      <td>Курган</td>\n",
       "      <td>Рэм</td>\n",
       "      <td>Корнилов</td>\n",
       "      <td>2018-05-15</td>\n",
       "      <td>ultra</td>\n",
       "    </tr>\n",
       "    <tr>\n",
       "      <td>206</td>\n",
       "      <td>1206</td>\n",
       "      <td>35</td>\n",
       "      <td>2018-12-20</td>\n",
       "      <td>Москва</td>\n",
       "      <td>Елена</td>\n",
       "      <td>Шарапова</td>\n",
       "      <td>2018-11-03</td>\n",
       "      <td>smart</td>\n",
       "    </tr>\n",
       "    <tr>\n",
       "      <td>141</td>\n",
       "      <td>1141</td>\n",
       "      <td>52</td>\n",
       "      <td>NaN</td>\n",
       "      <td>Москва</td>\n",
       "      <td>Клариса</td>\n",
       "      <td>Короткова</td>\n",
       "      <td>2018-12-02</td>\n",
       "      <td>smart</td>\n",
       "    </tr>\n",
       "  </tbody>\n",
       "</table>\n",
       "</div>"
      ],
      "text/plain": [
       "     user_id  age  churn_date      city first_name  last_name    reg_date  \\\n",
       "168     1168   28         NaN  Кострома      Лилия   Ананьева  2018-01-24   \n",
       "148     1148   23         NaN  Тольятти    Евдокия    Киреева  2018-04-17   \n",
       "273     1273   46         NaN    Курган        Рэм   Корнилов  2018-05-15   \n",
       "206     1206   35  2018-12-20    Москва      Елена   Шарапова  2018-11-03   \n",
       "141     1141   52         NaN    Москва    Клариса  Короткова  2018-12-02   \n",
       "\n",
       "    tariff  \n",
       "168  ultra  \n",
       "148  ultra  \n",
       "273  ultra  \n",
       "206  smart  \n",
       "141  smart  "
      ]
     },
     "execution_count": 7,
     "metadata": {},
     "output_type": "execute_result"
    }
   ],
   "source": [
    "us = pd.read_csv('/datasets/users.csv')\n",
    "us.info()\n",
    "us.sample(5)"
   ]
  },
  {
   "cell_type": "markdown",
   "metadata": {},
   "source": [
    "### <span style=\"color:blue\"> Шаг 2: Подготовка данных <span>"
   ]
  },
  {
   "cell_type": "markdown",
   "metadata": {},
   "source": [
    "В таблицах cal, inet, mes есть столбец id, который называется одинаково, но харрактирезует данные конкретной таблицы, поэтому я переименую их соответственно в cal_id, inet_id, mes_id, чтобы данные не перемешались при последующем объединении таблиц. Также переименовываю столбец с тарифами в таблице с пользователями, чтобы назывался также как столбец в таблице тарифов."
   ]
  },
  {
   "cell_type": "code",
   "execution_count": 8,
   "metadata": {},
   "outputs": [],
   "source": [
    "cal.rename(columns={'id': 'cal_id'}, inplace=True)\n",
    "inet.rename(columns={'id': 'inet_id'}, inplace=True)\n",
    "mes.rename(columns={'id': 'mes_id'}, inplace=True)\n",
    "us.rename(columns={'tariff': 'tariff_name'}, inplace=True)"
   ]
  },
  {
   "cell_type": "markdown",
   "metadata": {},
   "source": [
    "##### Изменение типов данных"
   ]
  },
  {
   "cell_type": "markdown",
   "metadata": {},
   "source": [
    "Столбцы с датами привожу к соответствующему формату."
   ]
  },
  {
   "cell_type": "code",
   "execution_count": 9,
   "metadata": {},
   "outputs": [],
   "source": [
    "cal['call_date'] = pd.to_datetime(cal['call_date'], format='%Y.%m.%d')\n",
    "inet['session_date'] = pd.to_datetime(inet['session_date'], format='%Y.%m.%d')\n",
    "mes['message_date'] = pd.to_datetime(mes['message_date'], format='%Y.%m.%d')\n",
    "us['reg_date'] = pd.to_datetime(us['reg_date'], format='%Y.%m.%d')"
   ]
  },
  {
   "cell_type": "markdown",
   "metadata": {},
   "source": [
    "##### Анализ длительности звонков"
   ]
  },
  {
   "cell_type": "markdown",
   "metadata": {},
   "source": [
    "Смотрю сколько обычно разговаривают пользователи и сколько пропущенных звонков."
   ]
  },
  {
   "cell_type": "code",
   "execution_count": 10,
   "metadata": {},
   "outputs": [
    {
     "data": {
      "image/png": "[encoded data removed]",
      "text/plain": [
       "<Figure size 432x288 with 1 Axes>"
      ]
     },
     "metadata": {
      "needs_background": "light"
     },
     "output_type": "display_data"
    }
   ],
   "source": [
    "plt.ylim(0, 40.0)\n",
    "cal.boxplot('duration')\n",
    "plt.title('Boxplot для длительности звонков', fontsize=12)\n",
    "plt.show()"
   ]
  },
  {
   "cell_type": "code",
   "execution_count": 11,
   "metadata": {},
   "outputs": [
    {
     "data": {
      "text/plain": [
       "39613"
      ]
     },
     "execution_count": 11,
     "metadata": {},
     "output_type": "execute_result"
    }
   ],
   "source": [
    "(cal['duration'] == 0).sum()"
   ]
  },
  {
   "cell_type": "markdown",
   "metadata": {},
   "source": [
    "Пропущенных звонков почти 20% от общего количества. Мне кажется, что это большой процент, убирать их не стоит. Возможно, они исказят данные об активности пользователей."
   ]
  },
  {
   "cell_type": "markdown",
   "metadata": {},
   "source": [
    "##### Анализ интернет трафика"
   ]
  },
  {
   "cell_type": "code",
   "execution_count": 12,
   "metadata": {},
   "outputs": [
    {
     "data": {
      "text/plain": [
       "19598"
      ]
     },
     "execution_count": 12,
     "metadata": {},
     "output_type": "execute_result"
    }
   ],
   "source": [
    "(inet['mb_used']==0).sum()"
   ]
  },
  {
   "cell_type": "code",
   "execution_count": 13,
   "metadata": {},
   "outputs": [
    {
     "data": {
      "image/png": "[encoded data removed]",
      "text/plain": [
       "<Figure size 432x288 with 1 Axes>"
      ]
     },
     "metadata": {
      "needs_background": "light"
     },
     "output_type": "display_data"
    }
   ],
   "source": [
    "plt.ylim(0, 1800)\n",
    "inet.boxplot('mb_used')\n",
    "plt.title('Boxplot для использованных МБ', fontsize=12)\n",
    "plt.show()"
   ]
  },
  {
   "cell_type": "code",
   "execution_count": 14,
   "metadata": {},
   "outputs": [
    {
     "data": {
      "text/html": [
       "<div>\n",
       "<style scoped>\n",
       "    .dataframe tbody tr th:only-of-type {\n",
       "        vertical-align: middle;\n",
       "    }\n",
       "\n",
       "    .dataframe tbody tr th {\n",
       "        vertical-align: top;\n",
       "    }\n",
       "\n",
       "    .dataframe thead th {\n",
       "        text-align: right;\n",
       "    }\n",
       "</style>\n",
       "<table border=\"1\" class=\"dataframe\">\n",
       "  <thead>\n",
       "    <tr style=\"text-align: right;\">\n",
       "      <th></th>\n",
       "      <th></th>\n",
       "      <th>mb_used</th>\n",
       "    </tr>\n",
       "    <tr>\n",
       "      <th>user_id</th>\n",
       "      <th>session_date</th>\n",
       "      <th></th>\n",
       "    </tr>\n",
       "  </thead>\n",
       "  <tbody>\n",
       "    <tr>\n",
       "      <td rowspan=\"13\" valign=\"top\">1000</td>\n",
       "      <td>2018-05-26</td>\n",
       "      <td>0.0</td>\n",
       "    </tr>\n",
       "    <tr>\n",
       "      <td>2018-06-15</td>\n",
       "      <td>0.0</td>\n",
       "    </tr>\n",
       "    <tr>\n",
       "      <td>2018-06-16</td>\n",
       "      <td>0.0</td>\n",
       "    </tr>\n",
       "    <tr>\n",
       "      <td>2018-06-17</td>\n",
       "      <td>0.0</td>\n",
       "    </tr>\n",
       "    <tr>\n",
       "      <td>2018-06-30</td>\n",
       "      <td>0.0</td>\n",
       "    </tr>\n",
       "    <tr>\n",
       "      <td>2018-07-11</td>\n",
       "      <td>0.0</td>\n",
       "    </tr>\n",
       "    <tr>\n",
       "      <td>2018-08-21</td>\n",
       "      <td>0.0</td>\n",
       "    </tr>\n",
       "    <tr>\n",
       "      <td>2018-08-28</td>\n",
       "      <td>0.0</td>\n",
       "    </tr>\n",
       "    <tr>\n",
       "      <td>2018-09-01</td>\n",
       "      <td>0.0</td>\n",
       "    </tr>\n",
       "    <tr>\n",
       "      <td>2018-09-17</td>\n",
       "      <td>0.0</td>\n",
       "    </tr>\n",
       "    <tr>\n",
       "      <td>2018-11-27</td>\n",
       "      <td>0.0</td>\n",
       "    </tr>\n",
       "    <tr>\n",
       "      <td>2018-12-21</td>\n",
       "      <td>0.0</td>\n",
       "    </tr>\n",
       "    <tr>\n",
       "      <td>2018-12-29</td>\n",
       "      <td>0.0</td>\n",
       "    </tr>\n",
       "  </tbody>\n",
       "</table>\n",
       "</div>"
      ],
      "text/plain": [
       "                      mb_used\n",
       "user_id session_date         \n",
       "1000    2018-05-26        0.0\n",
       "        2018-06-15        0.0\n",
       "        2018-06-16        0.0\n",
       "        2018-06-17        0.0\n",
       "        2018-06-30        0.0\n",
       "        2018-07-11        0.0\n",
       "        2018-08-21        0.0\n",
       "        2018-08-28        0.0\n",
       "        2018-09-01        0.0\n",
       "        2018-09-17        0.0\n",
       "        2018-11-27        0.0\n",
       "        2018-12-21        0.0\n",
       "        2018-12-29        0.0"
      ]
     },
     "execution_count": 14,
     "metadata": {},
     "output_type": "execute_result"
    }
   ],
   "source": [
    "inet.query('mb_used ==0 and user_id == 1000').pivot_table(index=('user_id', 'session_date'), values='mb_used', aggfunc='sum')"
   ]
  },
  {
   "cell_type": "markdown",
   "metadata": {},
   "source": [
    "Посмотрела на примере одного пользователя. Выглядит так, как будто он в каие то дни не пользовался интернетом. Но тогда странно, что в таблице есть id сессии. Для меня сессия - это сеанс в интернете, то есть он должен был пользоваться интернетом. Решила убрать из данных нулевые значения."
   ]
  },
  {
   "cell_type": "code",
   "execution_count": 15,
   "metadata": {},
   "outputs": [],
   "source": [
    "inet = inet.query('mb_used != 0')"
   ]
  },
  {
   "cell_type": "markdown",
   "metadata": {},
   "source": [
    "##### Объединение таблиц"
   ]
  },
  {
   "cell_type": "markdown",
   "metadata": {},
   "source": [
    "Сначала добавила к таблицам с информацией о звонках, сообщениях, трафику, таблицу с данными о пользователях."
   ]
  },
  {
   "cell_type": "code",
   "execution_count": 16,
   "metadata": {},
   "outputs": [
    {
     "data": {
      "text/html": [
       "<div>\n",
       "<style scoped>\n",
       "    .dataframe tbody tr th:only-of-type {\n",
       "        vertical-align: middle;\n",
       "    }\n",
       "\n",
       "    .dataframe tbody tr th {\n",
       "        vertical-align: top;\n",
       "    }\n",
       "\n",
       "    .dataframe thead th {\n",
       "        text-align: right;\n",
       "    }\n",
       "</style>\n",
       "<table border=\"1\" class=\"dataframe\">\n",
       "  <thead>\n",
       "    <tr style=\"text-align: right;\">\n",
       "      <th></th>\n",
       "      <th>user_id</th>\n",
       "      <th>age</th>\n",
       "      <th>churn_date</th>\n",
       "      <th>city</th>\n",
       "      <th>first_name</th>\n",
       "      <th>last_name</th>\n",
       "      <th>reg_date</th>\n",
       "      <th>tariff_name</th>\n",
       "      <th>cal_id</th>\n",
       "      <th>call_date</th>\n",
       "      <th>duration</th>\n",
       "    </tr>\n",
       "  </thead>\n",
       "  <tbody>\n",
       "    <tr>\n",
       "      <td>38805</td>\n",
       "      <td>1097</td>\n",
       "      <td>29</td>\n",
       "      <td>NaN</td>\n",
       "      <td>Краснодар</td>\n",
       "      <td>Алла</td>\n",
       "      <td>Кулешова</td>\n",
       "      <td>2018-06-25</td>\n",
       "      <td>ultra</td>\n",
       "      <td>1097_137</td>\n",
       "      <td>2018-11-06</td>\n",
       "      <td>14.59</td>\n",
       "    </tr>\n",
       "    <tr>\n",
       "      <td>159523</td>\n",
       "      <td>1393</td>\n",
       "      <td>56</td>\n",
       "      <td>NaN</td>\n",
       "      <td>Краснодар</td>\n",
       "      <td>Артём</td>\n",
       "      <td>Зубков</td>\n",
       "      <td>2018-02-17</td>\n",
       "      <td>smart</td>\n",
       "      <td>1393_775</td>\n",
       "      <td>2018-03-02</td>\n",
       "      <td>13.07</td>\n",
       "    </tr>\n",
       "    <tr>\n",
       "      <td>11635</td>\n",
       "      <td>1030</td>\n",
       "      <td>28</td>\n",
       "      <td>NaN</td>\n",
       "      <td>Махачкала</td>\n",
       "      <td>Мариетта</td>\n",
       "      <td>Русанова</td>\n",
       "      <td>2018-05-23</td>\n",
       "      <td>smart</td>\n",
       "      <td>1030_168</td>\n",
       "      <td>2018-06-30</td>\n",
       "      <td>15.05</td>\n",
       "    </tr>\n",
       "    <tr>\n",
       "      <td>58508</td>\n",
       "      <td>1147</td>\n",
       "      <td>63</td>\n",
       "      <td>NaN</td>\n",
       "      <td>Якутск</td>\n",
       "      <td>Владимир</td>\n",
       "      <td>Синицын</td>\n",
       "      <td>2018-07-09</td>\n",
       "      <td>smart</td>\n",
       "      <td>1147_223</td>\n",
       "      <td>2018-11-05</td>\n",
       "      <td>7.52</td>\n",
       "    </tr>\n",
       "    <tr>\n",
       "      <td>8680</td>\n",
       "      <td>1021</td>\n",
       "      <td>61</td>\n",
       "      <td>NaN</td>\n",
       "      <td>Краснодар</td>\n",
       "      <td>Святослав</td>\n",
       "      <td>Тихонов</td>\n",
       "      <td>2018-04-26</td>\n",
       "      <td>ultra</td>\n",
       "      <td>1021_1148</td>\n",
       "      <td>2018-05-21</td>\n",
       "      <td>0.00</td>\n",
       "    </tr>\n",
       "  </tbody>\n",
       "</table>\n",
       "</div>"
      ],
      "text/plain": [
       "        user_id  age churn_date       city first_name last_name   reg_date  \\\n",
       "38805      1097   29        NaN  Краснодар       Алла  Кулешова 2018-06-25   \n",
       "159523     1393   56        NaN  Краснодар      Артём    Зубков 2018-02-17   \n",
       "11635      1030   28        NaN  Махачкала   Мариетта  Русанова 2018-05-23   \n",
       "58508      1147   63        NaN     Якутск   Владимир   Синицын 2018-07-09   \n",
       "8680       1021   61        NaN  Краснодар  Святослав   Тихонов 2018-04-26   \n",
       "\n",
       "       tariff_name     cal_id  call_date  duration  \n",
       "38805        ultra   1097_137 2018-11-06     14.59  \n",
       "159523       smart   1393_775 2018-03-02     13.07  \n",
       "11635        smart   1030_168 2018-06-30     15.05  \n",
       "58508        smart   1147_223 2018-11-05      7.52  \n",
       "8680         ultra  1021_1148 2018-05-21      0.00  "
      ]
     },
     "execution_count": 16,
     "metadata": {},
     "output_type": "execute_result"
    }
   ],
   "source": [
    "df1 = pd.merge(us, cal, how = 'inner', on = 'user_id') \n",
    "df2 = pd.merge(us, mes, how = 'inner', on = 'user_id')\n",
    "df3 = pd.merge(us, inet, how = 'inner', on = 'user_id')\n",
    "\n",
    "df1.sample(5)"
   ]
  },
  {
   "cell_type": "markdown",
   "metadata": {},
   "source": [
    "Потом добавила информацио о соответствующем тарифе."
   ]
  },
  {
   "cell_type": "code",
   "execution_count": 17,
   "metadata": {},
   "outputs": [
    {
     "data": {
      "text/html": [
       "<div>\n",
       "<style scoped>\n",
       "    .dataframe tbody tr th:only-of-type {\n",
       "        vertical-align: middle;\n",
       "    }\n",
       "\n",
       "    .dataframe tbody tr th {\n",
       "        vertical-align: top;\n",
       "    }\n",
       "\n",
       "    .dataframe thead th {\n",
       "        text-align: right;\n",
       "    }\n",
       "</style>\n",
       "<table border=\"1\" class=\"dataframe\">\n",
       "  <thead>\n",
       "    <tr style=\"text-align: right;\">\n",
       "      <th></th>\n",
       "      <th>user_id</th>\n",
       "      <th>age</th>\n",
       "      <th>churn_date</th>\n",
       "      <th>city</th>\n",
       "      <th>first_name</th>\n",
       "      <th>last_name</th>\n",
       "      <th>reg_date</th>\n",
       "      <th>tariff_name</th>\n",
       "      <th>cal_id</th>\n",
       "      <th>call_date</th>\n",
       "      <th>duration</th>\n",
       "      <th>messages_included</th>\n",
       "      <th>mb_per_month_included</th>\n",
       "      <th>minutes_included</th>\n",
       "      <th>rub_monthly_fee</th>\n",
       "      <th>rub_per_gb</th>\n",
       "      <th>rub_per_message</th>\n",
       "      <th>rub_per_minute</th>\n",
       "    </tr>\n",
       "  </thead>\n",
       "  <tbody>\n",
       "    <tr>\n",
       "      <td>171880</td>\n",
       "      <td>1388</td>\n",
       "      <td>24</td>\n",
       "      <td>NaN</td>\n",
       "      <td>Вологда</td>\n",
       "      <td>Рустам</td>\n",
       "      <td>Левин</td>\n",
       "      <td>2018-08-27</td>\n",
       "      <td>smart</td>\n",
       "      <td>1388_166</td>\n",
       "      <td>2018-11-06</td>\n",
       "      <td>0.72</td>\n",
       "      <td>50</td>\n",
       "      <td>15360</td>\n",
       "      <td>500</td>\n",
       "      <td>550</td>\n",
       "      <td>200</td>\n",
       "      <td>3</td>\n",
       "      <td>3</td>\n",
       "    </tr>\n",
       "    <tr>\n",
       "      <td>16668</td>\n",
       "      <td>1126</td>\n",
       "      <td>71</td>\n",
       "      <td>NaN</td>\n",
       "      <td>Санкт-Петербург</td>\n",
       "      <td>Яна</td>\n",
       "      <td>Арсенкова</td>\n",
       "      <td>2018-01-19</td>\n",
       "      <td>ultra</td>\n",
       "      <td>1126_485</td>\n",
       "      <td>2018-02-26</td>\n",
       "      <td>4.65</td>\n",
       "      <td>1000</td>\n",
       "      <td>30720</td>\n",
       "      <td>3000</td>\n",
       "      <td>1950</td>\n",
       "      <td>150</td>\n",
       "      <td>1</td>\n",
       "      <td>1</td>\n",
       "    </tr>\n",
       "    <tr>\n",
       "      <td>38109</td>\n",
       "      <td>1325</td>\n",
       "      <td>63</td>\n",
       "      <td>NaN</td>\n",
       "      <td>Новосибирск</td>\n",
       "      <td>Артём</td>\n",
       "      <td>Федосеев</td>\n",
       "      <td>2018-06-12</td>\n",
       "      <td>ultra</td>\n",
       "      <td>1325_94</td>\n",
       "      <td>2018-11-12</td>\n",
       "      <td>0.00</td>\n",
       "      <td>1000</td>\n",
       "      <td>30720</td>\n",
       "      <td>3000</td>\n",
       "      <td>1950</td>\n",
       "      <td>150</td>\n",
       "      <td>1</td>\n",
       "      <td>1</td>\n",
       "    </tr>\n",
       "    <tr>\n",
       "      <td>88061</td>\n",
       "      <td>1059</td>\n",
       "      <td>47</td>\n",
       "      <td>NaN</td>\n",
       "      <td>Курск</td>\n",
       "      <td>Глеб</td>\n",
       "      <td>Свиридов</td>\n",
       "      <td>2018-04-14</td>\n",
       "      <td>smart</td>\n",
       "      <td>1059_398</td>\n",
       "      <td>2018-12-01</td>\n",
       "      <td>0.00</td>\n",
       "      <td>50</td>\n",
       "      <td>15360</td>\n",
       "      <td>500</td>\n",
       "      <td>550</td>\n",
       "      <td>200</td>\n",
       "      <td>3</td>\n",
       "      <td>3</td>\n",
       "    </tr>\n",
       "    <tr>\n",
       "      <td>149922</td>\n",
       "      <td>1285</td>\n",
       "      <td>44</td>\n",
       "      <td>NaN</td>\n",
       "      <td>Краснодар</td>\n",
       "      <td>Ефим</td>\n",
       "      <td>Амельченко</td>\n",
       "      <td>2018-02-20</td>\n",
       "      <td>smart</td>\n",
       "      <td>1285_372</td>\n",
       "      <td>2018-10-27</td>\n",
       "      <td>0.00</td>\n",
       "      <td>50</td>\n",
       "      <td>15360</td>\n",
       "      <td>500</td>\n",
       "      <td>550</td>\n",
       "      <td>200</td>\n",
       "      <td>3</td>\n",
       "      <td>3</td>\n",
       "    </tr>\n",
       "    <tr>\n",
       "      <td>107950</td>\n",
       "      <td>1133</td>\n",
       "      <td>70</td>\n",
       "      <td>NaN</td>\n",
       "      <td>Барнаул</td>\n",
       "      <td>Надежда</td>\n",
       "      <td>Аникина</td>\n",
       "      <td>2018-10-19</td>\n",
       "      <td>smart</td>\n",
       "      <td>1133_6</td>\n",
       "      <td>2018-11-18</td>\n",
       "      <td>6.71</td>\n",
       "      <td>50</td>\n",
       "      <td>15360</td>\n",
       "      <td>500</td>\n",
       "      <td>550</td>\n",
       "      <td>200</td>\n",
       "      <td>3</td>\n",
       "      <td>3</td>\n",
       "    </tr>\n",
       "    <tr>\n",
       "      <td>88454</td>\n",
       "      <td>1061</td>\n",
       "      <td>41</td>\n",
       "      <td>NaN</td>\n",
       "      <td>Санкт-Петербург</td>\n",
       "      <td>Тамара</td>\n",
       "      <td>Ситникова</td>\n",
       "      <td>2018-07-15</td>\n",
       "      <td>smart</td>\n",
       "      <td>1061_17</td>\n",
       "      <td>2018-09-11</td>\n",
       "      <td>5.93</td>\n",
       "      <td>50</td>\n",
       "      <td>15360</td>\n",
       "      <td>500</td>\n",
       "      <td>550</td>\n",
       "      <td>200</td>\n",
       "      <td>3</td>\n",
       "      <td>3</td>\n",
       "    </tr>\n",
       "    <tr>\n",
       "      <td>126088</td>\n",
       "      <td>1193</td>\n",
       "      <td>55</td>\n",
       "      <td>NaN</td>\n",
       "      <td>Тамбов</td>\n",
       "      <td>Арсен</td>\n",
       "      <td>Безруков</td>\n",
       "      <td>2018-01-01</td>\n",
       "      <td>smart</td>\n",
       "      <td>1193_524</td>\n",
       "      <td>2018-08-03</td>\n",
       "      <td>5.58</td>\n",
       "      <td>50</td>\n",
       "      <td>15360</td>\n",
       "      <td>500</td>\n",
       "      <td>550</td>\n",
       "      <td>200</td>\n",
       "      <td>3</td>\n",
       "      <td>3</td>\n",
       "    </tr>\n",
       "    <tr>\n",
       "      <td>146501</td>\n",
       "      <td>1275</td>\n",
       "      <td>48</td>\n",
       "      <td>NaN</td>\n",
       "      <td>Москва</td>\n",
       "      <td>Семён</td>\n",
       "      <td>Елизаров</td>\n",
       "      <td>2018-04-24</td>\n",
       "      <td>smart</td>\n",
       "      <td>1275_336</td>\n",
       "      <td>2018-08-05</td>\n",
       "      <td>16.78</td>\n",
       "      <td>50</td>\n",
       "      <td>15360</td>\n",
       "      <td>500</td>\n",
       "      <td>550</td>\n",
       "      <td>200</td>\n",
       "      <td>3</td>\n",
       "      <td>3</td>\n",
       "    </tr>\n",
       "    <tr>\n",
       "      <td>92675</td>\n",
       "      <td>1072</td>\n",
       "      <td>49</td>\n",
       "      <td>NaN</td>\n",
       "      <td>Уфа</td>\n",
       "      <td>Андрей</td>\n",
       "      <td>Андрейкин</td>\n",
       "      <td>2018-02-20</td>\n",
       "      <td>smart</td>\n",
       "      <td>1072_404</td>\n",
       "      <td>2018-05-08</td>\n",
       "      <td>1.17</td>\n",
       "      <td>50</td>\n",
       "      <td>15360</td>\n",
       "      <td>500</td>\n",
       "      <td>550</td>\n",
       "      <td>200</td>\n",
       "      <td>3</td>\n",
       "      <td>3</td>\n",
       "    </tr>\n",
       "  </tbody>\n",
       "</table>\n",
       "</div>"
      ],
      "text/plain": [
       "        user_id  age churn_date             city first_name   last_name  \\\n",
       "171880     1388   24        NaN          Вологда     Рустам       Левин   \n",
       "16668      1126   71        NaN  Санкт-Петербург        Яна   Арсенкова   \n",
       "38109      1325   63        NaN      Новосибирск      Артём    Федосеев   \n",
       "88061      1059   47        NaN            Курск       Глеб    Свиридов   \n",
       "149922     1285   44        NaN        Краснодар       Ефим  Амельченко   \n",
       "107950     1133   70        NaN          Барнаул    Надежда     Аникина   \n",
       "88454      1061   41        NaN  Санкт-Петербург     Тамара   Ситникова   \n",
       "126088     1193   55        NaN           Тамбов      Арсен    Безруков   \n",
       "146501     1275   48        NaN           Москва      Семён    Елизаров   \n",
       "92675      1072   49        NaN              Уфа     Андрей   Андрейкин   \n",
       "\n",
       "         reg_date tariff_name    cal_id  call_date  duration  \\\n",
       "171880 2018-08-27       smart  1388_166 2018-11-06      0.72   \n",
       "16668  2018-01-19       ultra  1126_485 2018-02-26      4.65   \n",
       "38109  2018-06-12       ultra   1325_94 2018-11-12      0.00   \n",
       "88061  2018-04-14       smart  1059_398 2018-12-01      0.00   \n",
       "149922 2018-02-20       smart  1285_372 2018-10-27      0.00   \n",
       "107950 2018-10-19       smart    1133_6 2018-11-18      6.71   \n",
       "88454  2018-07-15       smart   1061_17 2018-09-11      5.93   \n",
       "126088 2018-01-01       smart  1193_524 2018-08-03      5.58   \n",
       "146501 2018-04-24       smart  1275_336 2018-08-05     16.78   \n",
       "92675  2018-02-20       smart  1072_404 2018-05-08      1.17   \n",
       "\n",
       "        messages_included  mb_per_month_included  minutes_included  \\\n",
       "171880                 50                  15360               500   \n",
       "16668                1000                  30720              3000   \n",
       "38109                1000                  30720              3000   \n",
       "88061                  50                  15360               500   \n",
       "149922                 50                  15360               500   \n",
       "107950                 50                  15360               500   \n",
       "88454                  50                  15360               500   \n",
       "126088                 50                  15360               500   \n",
       "146501                 50                  15360               500   \n",
       "92675                  50                  15360               500   \n",
       "\n",
       "        rub_monthly_fee  rub_per_gb  rub_per_message  rub_per_minute  \n",
       "171880              550         200                3               3  \n",
       "16668              1950         150                1               1  \n",
       "38109              1950         150                1               1  \n",
       "88061               550         200                3               3  \n",
       "149922              550         200                3               3  \n",
       "107950              550         200                3               3  \n",
       "88454               550         200                3               3  \n",
       "126088              550         200                3               3  \n",
       "146501              550         200                3               3  \n",
       "92675               550         200                3               3  "
      ]
     },
     "execution_count": 17,
     "metadata": {},
     "output_type": "execute_result"
    }
   ],
   "source": [
    "# таблица с информацией по звонкам пользователей, с указанием их тарифа \n",
    "df_cal = pd.merge(df1, tar, how = 'inner', on = 'tariff_name')\n",
    "# таблица с информацией по сообщениям пользователей, с указанием их тарифа \n",
    "df_mes = pd.merge(df2, tar, how = 'inner', on = 'tariff_name')\n",
    "# таблица с информацией по интернет-траффику пользователей, с указанием их тарифа \n",
    "df_inet = pd.merge(df3, tar, how = 'inner', on = 'tariff_name')\n",
    "\n",
    "df_cal.sample(10)"
   ]
  },
  {
   "cell_type": "markdown",
   "metadata": {},
   "source": [
    "### Количество сделанных звонков и израсходованных минут разговора по месяцам"
   ]
  },
  {
   "cell_type": "markdown",
   "metadata": {},
   "source": [
    "Добавляю столбцы со значением месяца и года, хотя наверное год можно было и не добавлять, все данные и так за 2018 год."
   ]
  },
  {
   "cell_type": "code",
   "execution_count": 18,
   "metadata": {},
   "outputs": [],
   "source": [
    "df_cal['month'] = pd.DatetimeIndex(df_cal['call_date']).month\n",
    "df_cal['year'] = pd.DatetimeIndex(df_cal['call_date']).year"
   ]
  },
  {
   "cell_type": "code",
   "execution_count": 19,
   "metadata": {},
   "outputs": [
    {
     "data": {
      "text/html": [
       "<div>\n",
       "<style scoped>\n",
       "    .dataframe tbody tr th:only-of-type {\n",
       "        vertical-align: middle;\n",
       "    }\n",
       "\n",
       "    .dataframe tbody tr th {\n",
       "        vertical-align: top;\n",
       "    }\n",
       "\n",
       "    .dataframe thead th {\n",
       "        text-align: right;\n",
       "    }\n",
       "</style>\n",
       "<table border=\"1\" class=\"dataframe\">\n",
       "  <thead>\n",
       "    <tr style=\"text-align: right;\">\n",
       "      <th></th>\n",
       "      <th>user_id</th>\n",
       "      <th>age</th>\n",
       "      <th>churn_date</th>\n",
       "      <th>city</th>\n",
       "      <th>first_name</th>\n",
       "      <th>last_name</th>\n",
       "      <th>reg_date</th>\n",
       "      <th>tariff_name</th>\n",
       "      <th>cal_id</th>\n",
       "      <th>call_date</th>\n",
       "      <th>duration</th>\n",
       "      <th>messages_included</th>\n",
       "      <th>mb_per_month_included</th>\n",
       "      <th>minutes_included</th>\n",
       "      <th>rub_monthly_fee</th>\n",
       "      <th>rub_per_gb</th>\n",
       "      <th>rub_per_message</th>\n",
       "      <th>rub_per_minute</th>\n",
       "      <th>month</th>\n",
       "      <th>year</th>\n",
       "    </tr>\n",
       "  </thead>\n",
       "  <tbody>\n",
       "    <tr>\n",
       "      <td>0</td>\n",
       "      <td>1000</td>\n",
       "      <td>52</td>\n",
       "      <td>NaN</td>\n",
       "      <td>Краснодар</td>\n",
       "      <td>Рафаил</td>\n",
       "      <td>Верещагин</td>\n",
       "      <td>2018-05-25</td>\n",
       "      <td>ultra</td>\n",
       "      <td>1000_0</td>\n",
       "      <td>2018-07-25</td>\n",
       "      <td>0.00</td>\n",
       "      <td>1000</td>\n",
       "      <td>30720</td>\n",
       "      <td>3000</td>\n",
       "      <td>1950</td>\n",
       "      <td>150</td>\n",
       "      <td>1</td>\n",
       "      <td>1</td>\n",
       "      <td>7</td>\n",
       "      <td>2018</td>\n",
       "    </tr>\n",
       "    <tr>\n",
       "      <td>1</td>\n",
       "      <td>1000</td>\n",
       "      <td>52</td>\n",
       "      <td>NaN</td>\n",
       "      <td>Краснодар</td>\n",
       "      <td>Рафаил</td>\n",
       "      <td>Верещагин</td>\n",
       "      <td>2018-05-25</td>\n",
       "      <td>ultra</td>\n",
       "      <td>1000_1</td>\n",
       "      <td>2018-08-17</td>\n",
       "      <td>0.00</td>\n",
       "      <td>1000</td>\n",
       "      <td>30720</td>\n",
       "      <td>3000</td>\n",
       "      <td>1950</td>\n",
       "      <td>150</td>\n",
       "      <td>1</td>\n",
       "      <td>1</td>\n",
       "      <td>8</td>\n",
       "      <td>2018</td>\n",
       "    </tr>\n",
       "    <tr>\n",
       "      <td>2</td>\n",
       "      <td>1000</td>\n",
       "      <td>52</td>\n",
       "      <td>NaN</td>\n",
       "      <td>Краснодар</td>\n",
       "      <td>Рафаил</td>\n",
       "      <td>Верещагин</td>\n",
       "      <td>2018-05-25</td>\n",
       "      <td>ultra</td>\n",
       "      <td>1000_2</td>\n",
       "      <td>2018-06-11</td>\n",
       "      <td>2.85</td>\n",
       "      <td>1000</td>\n",
       "      <td>30720</td>\n",
       "      <td>3000</td>\n",
       "      <td>1950</td>\n",
       "      <td>150</td>\n",
       "      <td>1</td>\n",
       "      <td>1</td>\n",
       "      <td>6</td>\n",
       "      <td>2018</td>\n",
       "    </tr>\n",
       "    <tr>\n",
       "      <td>3</td>\n",
       "      <td>1000</td>\n",
       "      <td>52</td>\n",
       "      <td>NaN</td>\n",
       "      <td>Краснодар</td>\n",
       "      <td>Рафаил</td>\n",
       "      <td>Верещагин</td>\n",
       "      <td>2018-05-25</td>\n",
       "      <td>ultra</td>\n",
       "      <td>1000_3</td>\n",
       "      <td>2018-09-21</td>\n",
       "      <td>13.80</td>\n",
       "      <td>1000</td>\n",
       "      <td>30720</td>\n",
       "      <td>3000</td>\n",
       "      <td>1950</td>\n",
       "      <td>150</td>\n",
       "      <td>1</td>\n",
       "      <td>1</td>\n",
       "      <td>9</td>\n",
       "      <td>2018</td>\n",
       "    </tr>\n",
       "    <tr>\n",
       "      <td>4</td>\n",
       "      <td>1000</td>\n",
       "      <td>52</td>\n",
       "      <td>NaN</td>\n",
       "      <td>Краснодар</td>\n",
       "      <td>Рафаил</td>\n",
       "      <td>Верещагин</td>\n",
       "      <td>2018-05-25</td>\n",
       "      <td>ultra</td>\n",
       "      <td>1000_4</td>\n",
       "      <td>2018-12-15</td>\n",
       "      <td>5.18</td>\n",
       "      <td>1000</td>\n",
       "      <td>30720</td>\n",
       "      <td>3000</td>\n",
       "      <td>1950</td>\n",
       "      <td>150</td>\n",
       "      <td>1</td>\n",
       "      <td>1</td>\n",
       "      <td>12</td>\n",
       "      <td>2018</td>\n",
       "    </tr>\n",
       "  </tbody>\n",
       "</table>\n",
       "</div>"
      ],
      "text/plain": [
       "   user_id  age churn_date       city first_name  last_name   reg_date  \\\n",
       "0     1000   52        NaN  Краснодар     Рафаил  Верещагин 2018-05-25   \n",
       "1     1000   52        NaN  Краснодар     Рафаил  Верещагин 2018-05-25   \n",
       "2     1000   52        NaN  Краснодар     Рафаил  Верещагин 2018-05-25   \n",
       "3     1000   52        NaN  Краснодар     Рафаил  Верещагин 2018-05-25   \n",
       "4     1000   52        NaN  Краснодар     Рафаил  Верещагин 2018-05-25   \n",
       "\n",
       "  tariff_name  cal_id  call_date  duration  messages_included  \\\n",
       "0       ultra  1000_0 2018-07-25      0.00               1000   \n",
       "1       ultra  1000_1 2018-08-17      0.00               1000   \n",
       "2       ultra  1000_2 2018-06-11      2.85               1000   \n",
       "3       ultra  1000_3 2018-09-21     13.80               1000   \n",
       "4       ultra  1000_4 2018-12-15      5.18               1000   \n",
       "\n",
       "   mb_per_month_included  minutes_included  rub_monthly_fee  rub_per_gb  \\\n",
       "0                  30720              3000             1950         150   \n",
       "1                  30720              3000             1950         150   \n",
       "2                  30720              3000             1950         150   \n",
       "3                  30720              3000             1950         150   \n",
       "4                  30720              3000             1950         150   \n",
       "\n",
       "   rub_per_message  rub_per_minute  month  year  \n",
       "0                1               1      7  2018  \n",
       "1                1               1      8  2018  \n",
       "2                1               1      6  2018  \n",
       "3                1               1      9  2018  \n",
       "4                1               1     12  2018  "
      ]
     },
     "execution_count": 19,
     "metadata": {},
     "output_type": "execute_result"
    }
   ],
   "source": [
    "df_cal.head()"
   ]
  },
  {
   "cell_type": "markdown",
   "metadata": {},
   "source": [
    "#### Сводная таблица по месяцам и пользователям"
   ]
  },
  {
   "cell_type": "code",
   "execution_count": 20,
   "metadata": {},
   "outputs": [],
   "source": [
    "#округляю длительность\n",
    "df_cal['duration'] = df_cal['duration'].apply(lambda x: int(math.ceil(x)))"
   ]
  },
  {
   "cell_type": "code",
   "execution_count": 21,
   "metadata": {
    "scrolled": true
   },
   "outputs": [
    {
     "data": {
      "text/html": [
       "<div>\n",
       "<style scoped>\n",
       "    .dataframe tbody tr th:only-of-type {\n",
       "        vertical-align: middle;\n",
       "    }\n",
       "\n",
       "    .dataframe tbody tr th {\n",
       "        vertical-align: top;\n",
       "    }\n",
       "\n",
       "    .dataframe thead th {\n",
       "        text-align: right;\n",
       "    }\n",
       "</style>\n",
       "<table border=\"1\" class=\"dataframe\">\n",
       "  <thead>\n",
       "    <tr style=\"text-align: right;\">\n",
       "      <th></th>\n",
       "      <th></th>\n",
       "      <th>count</th>\n",
       "      <th>sum</th>\n",
       "    </tr>\n",
       "    <tr>\n",
       "      <th>month</th>\n",
       "      <th>user_id</th>\n",
       "      <th></th>\n",
       "      <th></th>\n",
       "    </tr>\n",
       "  </thead>\n",
       "  <tbody>\n",
       "    <tr>\n",
       "      <td rowspan=\"5\" valign=\"top\">1</td>\n",
       "      <td>1005</td>\n",
       "      <td>15</td>\n",
       "      <td>95</td>\n",
       "    </tr>\n",
       "    <tr>\n",
       "      <td>1032</td>\n",
       "      <td>61</td>\n",
       "      <td>380</td>\n",
       "    </tr>\n",
       "    <tr>\n",
       "      <td>1045</td>\n",
       "      <td>1</td>\n",
       "      <td>9</td>\n",
       "    </tr>\n",
       "    <tr>\n",
       "      <td>1055</td>\n",
       "      <td>64</td>\n",
       "      <td>551</td>\n",
       "    </tr>\n",
       "    <tr>\n",
       "      <td>1071</td>\n",
       "      <td>24</td>\n",
       "      <td>194</td>\n",
       "    </tr>\n",
       "    <tr>\n",
       "      <td>...</td>\n",
       "      <td>...</td>\n",
       "      <td>...</td>\n",
       "      <td>...</td>\n",
       "    </tr>\n",
       "    <tr>\n",
       "      <td rowspan=\"5\" valign=\"top\">12</td>\n",
       "      <td>1494</td>\n",
       "      <td>62</td>\n",
       "      <td>418</td>\n",
       "    </tr>\n",
       "    <tr>\n",
       "      <td>1495</td>\n",
       "      <td>155</td>\n",
       "      <td>1031</td>\n",
       "    </tr>\n",
       "    <tr>\n",
       "      <td>1496</td>\n",
       "      <td>80</td>\n",
       "      <td>518</td>\n",
       "    </tr>\n",
       "    <tr>\n",
       "      <td>1497</td>\n",
       "      <td>71</td>\n",
       "      <td>545</td>\n",
       "    </tr>\n",
       "    <tr>\n",
       "      <td>1499</td>\n",
       "      <td>69</td>\n",
       "      <td>492</td>\n",
       "    </tr>\n",
       "  </tbody>\n",
       "</table>\n",
       "<p>3174 rows × 2 columns</p>\n",
       "</div>"
      ],
      "text/plain": [
       "               count   sum\n",
       "month user_id             \n",
       "1     1005        15    95\n",
       "      1032        61   380\n",
       "      1045         1     9\n",
       "      1055        64   551\n",
       "      1071        24   194\n",
       "...              ...   ...\n",
       "12    1494        62   418\n",
       "      1495       155  1031\n",
       "      1496        80   518\n",
       "      1497        71   545\n",
       "      1499        69   492\n",
       "\n",
       "[3174 rows x 2 columns]"
      ]
     },
     "execution_count": 21,
     "metadata": {},
     "output_type": "execute_result"
    }
   ],
   "source": [
    "df_cal.pivot_table(index=['month', 'user_id'], values='duration', aggfunc=('count', 'sum'))"
   ]
  },
  {
   "cell_type": "markdown",
   "metadata": {},
   "source": [
    "Построила график распределения звонков по длительности."
   ]
  },
  {
   "cell_type": "code",
   "execution_count": 22,
   "metadata": {},
   "outputs": [
    {
     "data": {
      "image/png": "[encoded data removed]",
      "text/plain": [
       "<Figure size 1512x432 with 1 Axes>"
      ]
     },
     "metadata": {
      "needs_background": "light"
     },
     "output_type": "display_data"
    }
   ],
   "source": [
    "df_cal.pivot_table(index=['user_id'], columns = 'tariff_name', values='duration', aggfunc='sum').plot(grid=True, figsize=(21, 6), style='o')\n",
    "plt.title('Суммарная длительность звонков по пользователям', fontsize=14)\n",
    "plt.ylabel(\"Звонки по длительности\")\n",
    "plt.xlabel(\"Пользователи\")\n",
    "\n",
    "plt.show()"
   ]
  },
  {
   "cell_type": "markdown",
   "metadata": {},
   "source": [
    "Построила график по количеству звонков пользователей разных тарифов."
   ]
  },
  {
   "cell_type": "code",
   "execution_count": 23,
   "metadata": {},
   "outputs": [
    {
     "data": {
      "image/png": "[encoded data removed]",
      "text/plain": [
       "<Figure size 1512x432 with 1 Axes>"
      ]
     },
     "metadata": {
      "needs_background": "light"
     },
     "output_type": "display_data"
    }
   ],
   "source": [
    "length=12\n",
    "xmarks=[i for i in range(1,length+1,1)]\n",
    "\n",
    "df_cal.pivot_table(index='month', columns = 'tariff_name', values='cal_id', aggfunc='count').plot(grid=True, figsize=(21, 6))\n",
    "plt.title('Количество звонков по месяцам', fontsize=14)\n",
    "plt.ylabel(\"Количество звонков\")\n",
    "plt.xlabel(\"Месяц\")\n",
    "plt.xticks(xmarks)\n",
    "plt.show()"
   ]
  },
  {
   "cell_type": "code",
   "execution_count": 24,
   "metadata": {},
   "outputs": [
    {
     "data": {
      "text/plain": [
       "smart    351\n",
       "ultra    149\n",
       "Name: tariff_name, dtype: int64"
      ]
     },
     "execution_count": 24,
     "metadata": {},
     "output_type": "execute_result"
    }
   ],
   "source": [
    "# количество пользователей по тарифам\n",
    "us['tariff_name']. value_counts()"
   ]
  },
  {
   "cell_type": "markdown",
   "metadata": {},
   "source": [
    "#### Вывод:\n",
    "У пользователей тарифа \"Ультра\" более длительные звонки. Количество звонков у пользователей тарифа \"Смарт\" большое, но и количество пользователей в 2,3 раза больше чем у \"Ультра\"."
   ]
  },
  {
   "cell_type": "markdown",
   "metadata": {},
   "source": [
    "### Количество сообщений по месяцам"
   ]
  },
  {
   "cell_type": "code",
   "execution_count": 25,
   "metadata": {},
   "outputs": [
    {
     "data": {
      "text/html": [
       "<div>\n",
       "<style scoped>\n",
       "    .dataframe tbody tr th:only-of-type {\n",
       "        vertical-align: middle;\n",
       "    }\n",
       "\n",
       "    .dataframe tbody tr th {\n",
       "        vertical-align: top;\n",
       "    }\n",
       "\n",
       "    .dataframe thead th {\n",
       "        text-align: right;\n",
       "    }\n",
       "</style>\n",
       "<table border=\"1\" class=\"dataframe\">\n",
       "  <thead>\n",
       "    <tr style=\"text-align: right;\">\n",
       "      <th></th>\n",
       "      <th></th>\n",
       "      <th>mes_id</th>\n",
       "    </tr>\n",
       "    <tr>\n",
       "      <th>month</th>\n",
       "      <th>user_id</th>\n",
       "      <th></th>\n",
       "    </tr>\n",
       "  </thead>\n",
       "  <tbody>\n",
       "    <tr>\n",
       "      <td rowspan=\"5\" valign=\"top\">1</td>\n",
       "      <td>1005</td>\n",
       "      <td>7</td>\n",
       "    </tr>\n",
       "    <tr>\n",
       "      <td>1032</td>\n",
       "      <td>38</td>\n",
       "    </tr>\n",
       "    <tr>\n",
       "      <td>1045</td>\n",
       "      <td>5</td>\n",
       "    </tr>\n",
       "    <tr>\n",
       "      <td>1055</td>\n",
       "      <td>30</td>\n",
       "    </tr>\n",
       "    <tr>\n",
       "      <td>1071</td>\n",
       "      <td>16</td>\n",
       "    </tr>\n",
       "    <tr>\n",
       "      <td>...</td>\n",
       "      <td>...</td>\n",
       "      <td>...</td>\n",
       "    </tr>\n",
       "    <tr>\n",
       "      <td rowspan=\"5\" valign=\"top\">12</td>\n",
       "      <td>1493</td>\n",
       "      <td>78</td>\n",
       "    </tr>\n",
       "    <tr>\n",
       "      <td>1495</td>\n",
       "      <td>84</td>\n",
       "    </tr>\n",
       "    <tr>\n",
       "      <td>1496</td>\n",
       "      <td>51</td>\n",
       "    </tr>\n",
       "    <tr>\n",
       "      <td>1497</td>\n",
       "      <td>17</td>\n",
       "    </tr>\n",
       "    <tr>\n",
       "      <td>1499</td>\n",
       "      <td>66</td>\n",
       "    </tr>\n",
       "  </tbody>\n",
       "</table>\n",
       "<p>2717 rows × 1 columns</p>\n",
       "</div>"
      ],
      "text/plain": [
       "               mes_id\n",
       "month user_id        \n",
       "1     1005          7\n",
       "      1032         38\n",
       "      1045          5\n",
       "      1055         30\n",
       "      1071         16\n",
       "...               ...\n",
       "12    1493         78\n",
       "      1495         84\n",
       "      1496         51\n",
       "      1497         17\n",
       "      1499         66\n",
       "\n",
       "[2717 rows x 1 columns]"
      ]
     },
     "execution_count": 25,
     "metadata": {},
     "output_type": "execute_result"
    }
   ],
   "source": [
    "df_mes['month'] = pd.DatetimeIndex(df_mes['message_date']).month\n",
    "df_mes.pivot_table(index=['month', 'user_id'], values='mes_id', aggfunc='count')"
   ]
  },
  {
   "cell_type": "code",
   "execution_count": 26,
   "metadata": {},
   "outputs": [
    {
     "data": {
      "image/png": "[encoded data removed]",
      "text/plain": [
       "<Figure size 1512x432 with 1 Axes>"
      ]
     },
     "metadata": {
      "needs_background": "light"
     },
     "output_type": "display_data"
    }
   ],
   "source": [
    "length=12\n",
    "xmarks=[i for i in range(1,length+1,1)]\n",
    "\n",
    "df_mes.pivot_table(index=['month'], columns = 'tariff_name', values='mes_id', aggfunc='count').plot(grid=True, figsize=(21, 6))\n",
    "plt.title('Количество сообщений по месяцам', fontsize=14)\n",
    "plt.ylabel(\"Количество сообщений\")\n",
    "plt.xlabel(\"Месяц\")\n",
    "plt.xticks(xmarks)\n",
    "plt.show()"
   ]
  },
  {
   "cell_type": "markdown",
   "metadata": {},
   "source": [
    "Пользователи тарифа \"Смарт\" отправляют больше сообщений, но думаю это из за количества самих пользователлей. Линии на графике идут практически параллельно, то есть по активности отправки сообщений, пользователи тарифа \"Ультра\" не сильно уступают."
   ]
  },
  {
   "cell_type": "markdown",
   "metadata": {},
   "source": [
    "### Объем израсходованного интернет-трафика по месяцам"
   ]
  },
  {
   "cell_type": "code",
   "execution_count": 27,
   "metadata": {},
   "outputs": [
    {
     "data": {
      "text/html": [
       "<div>\n",
       "<style scoped>\n",
       "    .dataframe tbody tr th:only-of-type {\n",
       "        vertical-align: middle;\n",
       "    }\n",
       "\n",
       "    .dataframe tbody tr th {\n",
       "        vertical-align: top;\n",
       "    }\n",
       "\n",
       "    .dataframe thead th {\n",
       "        text-align: right;\n",
       "    }\n",
       "</style>\n",
       "<table border=\"1\" class=\"dataframe\">\n",
       "  <thead>\n",
       "    <tr style=\"text-align: right;\">\n",
       "      <th></th>\n",
       "      <th></th>\n",
       "      <th>count</th>\n",
       "      <th>sum</th>\n",
       "    </tr>\n",
       "    <tr>\n",
       "      <th>month</th>\n",
       "      <th>user_id</th>\n",
       "      <th></th>\n",
       "      <th></th>\n",
       "    </tr>\n",
       "  </thead>\n",
       "  <tbody>\n",
       "    <tr>\n",
       "      <td rowspan=\"5\" valign=\"top\">1</td>\n",
       "      <td>1005</td>\n",
       "      <td>6</td>\n",
       "      <td>2727.97</td>\n",
       "    </tr>\n",
       "    <tr>\n",
       "      <td>1032</td>\n",
       "      <td>51</td>\n",
       "      <td>24127.69</td>\n",
       "    </tr>\n",
       "    <tr>\n",
       "      <td>1045</td>\n",
       "      <td>5</td>\n",
       "      <td>2346.71</td>\n",
       "    </tr>\n",
       "    <tr>\n",
       "      <td>1055</td>\n",
       "      <td>43</td>\n",
       "      <td>17090.88</td>\n",
       "    </tr>\n",
       "    <tr>\n",
       "      <td>1071</td>\n",
       "      <td>37</td>\n",
       "      <td>15604.34</td>\n",
       "    </tr>\n",
       "    <tr>\n",
       "      <td>...</td>\n",
       "      <td>...</td>\n",
       "      <td>...</td>\n",
       "      <td>...</td>\n",
       "    </tr>\n",
       "    <tr>\n",
       "      <td rowspan=\"5\" valign=\"top\">12</td>\n",
       "      <td>1494</td>\n",
       "      <td>44</td>\n",
       "      <td>17621.21</td>\n",
       "    </tr>\n",
       "    <tr>\n",
       "      <td>1495</td>\n",
       "      <td>46</td>\n",
       "      <td>23426.76</td>\n",
       "    </tr>\n",
       "    <tr>\n",
       "      <td>1496</td>\n",
       "      <td>55</td>\n",
       "      <td>20736.15</td>\n",
       "    </tr>\n",
       "    <tr>\n",
       "      <td>1497</td>\n",
       "      <td>41</td>\n",
       "      <td>19918.60</td>\n",
       "    </tr>\n",
       "    <tr>\n",
       "      <td>1499</td>\n",
       "      <td>40</td>\n",
       "      <td>13055.58</td>\n",
       "    </tr>\n",
       "  </tbody>\n",
       "</table>\n",
       "<p>3201 rows × 2 columns</p>\n",
       "</div>"
      ],
      "text/plain": [
       "               count       sum\n",
       "month user_id                 \n",
       "1     1005         6   2727.97\n",
       "      1032        51  24127.69\n",
       "      1045         5   2346.71\n",
       "      1055        43  17090.88\n",
       "      1071        37  15604.34\n",
       "...              ...       ...\n",
       "12    1494        44  17621.21\n",
       "      1495        46  23426.76\n",
       "      1496        55  20736.15\n",
       "      1497        41  19918.60\n",
       "      1499        40  13055.58\n",
       "\n",
       "[3201 rows x 2 columns]"
      ]
     },
     "execution_count": 27,
     "metadata": {},
     "output_type": "execute_result"
    }
   ],
   "source": [
    "df_inet['month'] = pd.DatetimeIndex(df_inet['session_date']).month\n",
    "df_inet.pivot_table(index=['month', 'user_id'], values='mb_used', aggfunc=('count', 'sum'))"
   ]
  },
  {
   "cell_type": "code",
   "execution_count": 28,
   "metadata": {},
   "outputs": [
    {
     "data": {
      "image/png": "[encoded data removed]",
      "text/plain": [
       "<Figure size 1512x432 with 1 Axes>"
      ]
     },
     "metadata": {
      "needs_background": "light"
     },
     "output_type": "display_data"
    }
   ],
   "source": [
    "length=12\n",
    "xmarks=[i for i in range(1,length+1,1)]\n",
    "\n",
    "df_inet.pivot_table(index='month', columns = 'tariff_name', values='mb_used', aggfunc='sum').plot(grid=True, figsize=(21, 6))\n",
    "plt.title('Количество использованнных МБ по месяцам', fontsize=14)\n",
    "plt.ylabel(\"Количество МБ\")\n",
    "plt.xlabel(\"Месяц\")\n",
    "plt.xticks(xmarks)\n",
    "plt.show()"
   ]
  },
  {
   "cell_type": "markdown",
   "metadata": {},
   "source": [
    "На графике линии больше расходятся, то есть пользователи тарифа \"Смарт\" более активно расходуют МБ."
   ]
  },
  {
   "cell_type": "markdown",
   "metadata": {},
   "source": [
    "### Помесячная выручка"
   ]
  },
  {
   "cell_type": "markdown",
   "metadata": {},
   "source": [
    "Для того, чтобы проанаизировать выручку, сделаю объединение таблиц по пользователям и месяцам."
   ]
  },
  {
   "cell_type": "code",
   "execution_count": 29,
   "metadata": {},
   "outputs": [
    {
     "name": "stdout",
     "output_type": "stream",
     "text": [
      "<class 'pandas.core.frame.DataFrame'>\n",
      "RangeIndex: 3174 entries, 0 to 3173\n",
      "Data columns (total 3 columns):\n",
      "user_id     3174 non-null int64\n",
      "month       3174 non-null int64\n",
      "duration    3174 non-null int64\n",
      "dtypes: int64(3)\n",
      "memory usage: 74.5 KB\n"
     ]
    }
   ],
   "source": [
    "#сделала подсчитанную по месяцам таблицу с длительностью звонков\n",
    "m_cal = df_cal.groupby(['user_id', 'month'])[['duration']].agg(['sum']).reset_index()\n",
    "m_cal.columns=['user_id', 'month', 'duration']            \n",
    "m_cal.head()\n",
    "m_cal.info()"
   ]
  },
  {
   "cell_type": "code",
   "execution_count": 30,
   "metadata": {},
   "outputs": [
    {
     "name": "stdout",
     "output_type": "stream",
     "text": [
      "<class 'pandas.core.frame.DataFrame'>\n",
      "RangeIndex: 2717 entries, 0 to 2716\n",
      "Data columns (total 3 columns):\n",
      "user_id      2717 non-null int64\n",
      "month        2717 non-null int64\n",
      "count_mes    2717 non-null int64\n",
      "dtypes: int64(3)\n",
      "memory usage: 63.8 KB\n"
     ]
    }
   ],
   "source": [
    "#сделала подсчитанную по месяцам таблицу с количеством сообщений\n",
    "m_mes = df_mes.groupby(['user_id','month'])[['mes_id']].agg(['count']).reset_index()\n",
    "m_mes.columns=['user_id', 'month', 'count_mes']            \n",
    "m_mes.head()\n",
    "m_mes.info()"
   ]
  },
  {
   "cell_type": "code",
   "execution_count": 31,
   "metadata": {},
   "outputs": [
    {
     "name": "stdout",
     "output_type": "stream",
     "text": [
      "<class 'pandas.core.frame.DataFrame'>\n",
      "RangeIndex: 3201 entries, 0 to 3200\n",
      "Data columns (total 4 columns):\n",
      "user_id        3201 non-null int64\n",
      "month          3201 non-null int64\n",
      "tariff_name    3201 non-null object\n",
      "mb_used        3201 non-null float64\n",
      "dtypes: float64(1), int64(2), object(1)\n",
      "memory usage: 100.2+ KB\n"
     ]
    }
   ],
   "source": [
    "#сделала подсчитанную по месяцам таблицу с использованным трафиком\n",
    "m_inet = df_inet.groupby(['user_id','month', 'tariff_name'])[['mb_used']].agg(['sum']).reset_index()\n",
    "m_inet.columns=['user_id', 'month', 'tariff_name', 'mb_used']            \n",
    "m_inet.head()\n",
    "m_inet.info()"
   ]
  },
  {
   "cell_type": "code",
   "execution_count": 32,
   "metadata": {},
   "outputs": [],
   "source": [
    "#добавила информацию о тарифах\n",
    "m_inet = pd.merge(m_inet, tar, how = 'inner', on = 'tariff_name')"
   ]
  },
  {
   "cell_type": "code",
   "execution_count": 33,
   "metadata": {},
   "outputs": [
    {
     "data": {
      "text/html": [
       "<div>\n",
       "<style scoped>\n",
       "    .dataframe tbody tr th:only-of-type {\n",
       "        vertical-align: middle;\n",
       "    }\n",
       "\n",
       "    .dataframe tbody tr th {\n",
       "        vertical-align: top;\n",
       "    }\n",
       "\n",
       "    .dataframe thead th {\n",
       "        text-align: right;\n",
       "    }\n",
       "</style>\n",
       "<table border=\"1\" class=\"dataframe\">\n",
       "  <thead>\n",
       "    <tr style=\"text-align: right;\">\n",
       "      <th></th>\n",
       "      <th>user_id</th>\n",
       "      <th>month</th>\n",
       "      <th>tariff_name</th>\n",
       "      <th>mb_used</th>\n",
       "      <th>messages_included</th>\n",
       "      <th>mb_per_month_included</th>\n",
       "      <th>minutes_included</th>\n",
       "      <th>rub_monthly_fee</th>\n",
       "      <th>rub_per_gb</th>\n",
       "      <th>rub_per_message</th>\n",
       "      <th>rub_per_minute</th>\n",
       "      <th>duration</th>\n",
       "      <th>count_mes</th>\n",
       "    </tr>\n",
       "  </thead>\n",
       "  <tbody>\n",
       "    <tr>\n",
       "      <td>0</td>\n",
       "      <td>1000</td>\n",
       "      <td>5</td>\n",
       "      <td>ultra</td>\n",
       "      <td>2253.49</td>\n",
       "      <td>1000</td>\n",
       "      <td>30720</td>\n",
       "      <td>3000</td>\n",
       "      <td>1950</td>\n",
       "      <td>150</td>\n",
       "      <td>1</td>\n",
       "      <td>1</td>\n",
       "      <td>159.0</td>\n",
       "      <td>22.0</td>\n",
       "    </tr>\n",
       "    <tr>\n",
       "      <td>1</td>\n",
       "      <td>1000</td>\n",
       "      <td>6</td>\n",
       "      <td>ultra</td>\n",
       "      <td>23233.77</td>\n",
       "      <td>1000</td>\n",
       "      <td>30720</td>\n",
       "      <td>3000</td>\n",
       "      <td>1950</td>\n",
       "      <td>150</td>\n",
       "      <td>1</td>\n",
       "      <td>1</td>\n",
       "      <td>172.0</td>\n",
       "      <td>60.0</td>\n",
       "    </tr>\n",
       "    <tr>\n",
       "      <td>2</td>\n",
       "      <td>1000</td>\n",
       "      <td>7</td>\n",
       "      <td>ultra</td>\n",
       "      <td>14003.64</td>\n",
       "      <td>1000</td>\n",
       "      <td>30720</td>\n",
       "      <td>3000</td>\n",
       "      <td>1950</td>\n",
       "      <td>150</td>\n",
       "      <td>1</td>\n",
       "      <td>1</td>\n",
       "      <td>340.0</td>\n",
       "      <td>75.0</td>\n",
       "    </tr>\n",
       "    <tr>\n",
       "      <td>3</td>\n",
       "      <td>1000</td>\n",
       "      <td>8</td>\n",
       "      <td>ultra</td>\n",
       "      <td>14055.93</td>\n",
       "      <td>1000</td>\n",
       "      <td>30720</td>\n",
       "      <td>3000</td>\n",
       "      <td>1950</td>\n",
       "      <td>150</td>\n",
       "      <td>1</td>\n",
       "      <td>1</td>\n",
       "      <td>408.0</td>\n",
       "      <td>81.0</td>\n",
       "    </tr>\n",
       "    <tr>\n",
       "      <td>4</td>\n",
       "      <td>1000</td>\n",
       "      <td>9</td>\n",
       "      <td>ultra</td>\n",
       "      <td>14568.91</td>\n",
       "      <td>1000</td>\n",
       "      <td>30720</td>\n",
       "      <td>3000</td>\n",
       "      <td>1950</td>\n",
       "      <td>150</td>\n",
       "      <td>1</td>\n",
       "      <td>1</td>\n",
       "      <td>466.0</td>\n",
       "      <td>57.0</td>\n",
       "    </tr>\n",
       "  </tbody>\n",
       "</table>\n",
       "</div>"
      ],
      "text/plain": [
       "   user_id  month tariff_name   mb_used  messages_included  \\\n",
       "0     1000      5       ultra   2253.49               1000   \n",
       "1     1000      6       ultra  23233.77               1000   \n",
       "2     1000      7       ultra  14003.64               1000   \n",
       "3     1000      8       ultra  14055.93               1000   \n",
       "4     1000      9       ultra  14568.91               1000   \n",
       "\n",
       "   mb_per_month_included  minutes_included  rub_monthly_fee  rub_per_gb  \\\n",
       "0                  30720              3000             1950         150   \n",
       "1                  30720              3000             1950         150   \n",
       "2                  30720              3000             1950         150   \n",
       "3                  30720              3000             1950         150   \n",
       "4                  30720              3000             1950         150   \n",
       "\n",
       "   rub_per_message  rub_per_minute  duration  count_mes  \n",
       "0                1               1     159.0       22.0  \n",
       "1                1               1     172.0       60.0  \n",
       "2                1               1     340.0       75.0  \n",
       "3                1               1     408.0       81.0  \n",
       "4                1               1     466.0       57.0  "
      ]
     },
     "execution_count": 33,
     "metadata": {},
     "output_type": "execute_result"
    }
   ],
   "source": [
    "#объединяю таблицы по двум столбцам пользователю и месяцу\n",
    "df1 = m_inet.merge(m_cal, how='left', on=['user_id', 'month'])\n",
    "df = df1.merge(m_mes, how='left', on=['user_id', 'month'])\n",
    "df.head()"
   ]
  },
  {
   "cell_type": "code",
   "execution_count": 34,
   "metadata": {},
   "outputs": [
    {
     "name": "stdout",
     "output_type": "stream",
     "text": [
      "<class 'pandas.core.frame.DataFrame'>\n",
      "Int64Index: 3201 entries, 0 to 3200\n",
      "Data columns (total 13 columns):\n",
      "user_id                  3201 non-null int64\n",
      "month                    3201 non-null int64\n",
      "tariff_name              3201 non-null object\n",
      "mb_used                  3201 non-null float64\n",
      "messages_included        3201 non-null int64\n",
      "mb_per_month_included    3201 non-null int64\n",
      "minutes_included         3201 non-null int64\n",
      "rub_monthly_fee          3201 non-null int64\n",
      "rub_per_gb               3201 non-null int64\n",
      "rub_per_message          3201 non-null int64\n",
      "rub_per_minute           3201 non-null int64\n",
      "duration                 3161 non-null float64\n",
      "count_mes                2704 non-null float64\n",
      "dtypes: float64(3), int64(9), object(1)\n",
      "memory usage: 350.1+ KB\n"
     ]
    }
   ],
   "source": [
    "df.info()"
   ]
  },
  {
   "cell_type": "code",
   "execution_count": 35,
   "metadata": {},
   "outputs": [],
   "source": [
    "df['duration']=df['duration'].fillna(0)\n",
    "df['count_mes']=df['count_mes'].fillna(0)"
   ]
  },
  {
   "cell_type": "markdown",
   "metadata": {},
   "source": [
    "Теперь в одной таблице информация по пользователю, его тарифу, месяцам и соответсвующим месяцу количеству сообщений, длительности звонков и потраченному трафику."
   ]
  },
  {
   "cell_type": "markdown",
   "metadata": {},
   "source": [
    "#####  Выручка по звонкам сверх тарифа"
   ]
  },
  {
   "cell_type": "markdown",
   "metadata": {},
   "source": [
    "Считаю сколько денег сверх тарифа пользователь должен заплатить. Если значение меньше нуля, значит пользователь не превысил лимит тарифа по звонкам. Плюсовое значение это сумма в рублях, которую пользователь должен доплатить сверх ежемесячной платы."
   ]
  },
  {
   "cell_type": "code",
   "execution_count": 36,
   "metadata": {},
   "outputs": [
    {
     "data": {
      "text/plain": [
       "2457     771.0\n",
       "341    -2419.0\n",
       "627    -1792.0\n",
       "1721    -909.0\n",
       "1412     285.0\n",
       "182    -2555.0\n",
       "1113    -183.0\n",
       "1987     -15.0\n",
       "1986    -111.0\n",
       "1478       3.0\n",
       "Name: proceeds_cal, dtype: float64"
      ]
     },
     "execution_count": 36,
     "metadata": {},
     "output_type": "execute_result"
    }
   ],
   "source": [
    "df['proceeds_cal']=(df['duration']-df['minutes_included'])*df['rub_per_minute']\n",
    "df['proceeds_cal'].sample(10)"
   ]
  },
  {
   "cell_type": "code",
   "execution_count": 37,
   "metadata": {},
   "outputs": [
    {
     "name": "stdout",
     "output_type": "stream",
     "text": [
      "<class 'pandas.core.frame.DataFrame'>\n",
      "Int64Index: 3201 entries, 0 to 3200\n",
      "Data columns (total 14 columns):\n",
      "user_id                  3201 non-null int64\n",
      "month                    3201 non-null int64\n",
      "tariff_name              3201 non-null object\n",
      "mb_used                  3201 non-null float64\n",
      "messages_included        3201 non-null int64\n",
      "mb_per_month_included    3201 non-null int64\n",
      "minutes_included         3201 non-null int64\n",
      "rub_monthly_fee          3201 non-null int64\n",
      "rub_per_gb               3201 non-null int64\n",
      "rub_per_message          3201 non-null int64\n",
      "rub_per_minute           3201 non-null int64\n",
      "duration                 3201 non-null float64\n",
      "count_mes                3201 non-null float64\n",
      "proceeds_cal             3201 non-null float64\n",
      "dtypes: float64(4), int64(9), object(1)\n",
      "memory usage: 375.1+ KB\n"
     ]
    }
   ],
   "source": [
    "# проверяю на наличие пропущенных значений\n",
    "df.info()"
   ]
  },
  {
   "cell_type": "markdown",
   "metadata": {},
   "source": [
    "Есть пропущенные значения в сообщениях и трафике, предполагаю, что пользователи могли в какой либо месяц не посылать смс и не заходить в интернет."
   ]
  },
  {
   "cell_type": "markdown",
   "metadata": {},
   "source": [
    "#####  Выручка по сообщениям сверх тарифа"
   ]
  },
  {
   "cell_type": "code",
   "execution_count": 38,
   "metadata": {},
   "outputs": [
    {
     "data": {
      "text/plain": [
       "1857   -129.0\n",
       "1510   -150.0\n",
       "1786   -150.0\n",
       "340    -956.0\n",
       "2157   -126.0\n",
       "2814     18.0\n",
       "2385    -72.0\n",
       "1808    -93.0\n",
       "3073    -87.0\n",
       "837    -917.0\n",
       "Name: proceeds_mes, dtype: float64"
      ]
     },
     "execution_count": 38,
     "metadata": {},
     "output_type": "execute_result"
    }
   ],
   "source": [
    "df['proceeds_mes']=(df['count_mes']-df['messages_included'])*df['rub_per_message']\n",
    "df['proceeds_mes'].sample(10)"
   ]
  },
  {
   "cell_type": "code",
   "execution_count": 39,
   "metadata": {},
   "outputs": [
    {
     "name": "stdout",
     "output_type": "stream",
     "text": [
      "<class 'pandas.core.frame.DataFrame'>\n",
      "Int64Index: 3201 entries, 0 to 3200\n",
      "Data columns (total 15 columns):\n",
      "user_id                  3201 non-null int64\n",
      "month                    3201 non-null int64\n",
      "tariff_name              3201 non-null object\n",
      "mb_used                  3201 non-null float64\n",
      "messages_included        3201 non-null int64\n",
      "mb_per_month_included    3201 non-null int64\n",
      "minutes_included         3201 non-null int64\n",
      "rub_monthly_fee          3201 non-null int64\n",
      "rub_per_gb               3201 non-null int64\n",
      "rub_per_message          3201 non-null int64\n",
      "rub_per_minute           3201 non-null int64\n",
      "duration                 3201 non-null float64\n",
      "count_mes                3201 non-null float64\n",
      "proceeds_cal             3201 non-null float64\n",
      "proceeds_mes             3201 non-null float64\n",
      "dtypes: float64(5), int64(9), object(1)\n",
      "memory usage: 400.1+ KB\n"
     ]
    }
   ],
   "source": [
    "df.info()"
   ]
  },
  {
   "cell_type": "code",
   "execution_count": 40,
   "metadata": {},
   "outputs": [],
   "source": [
    "df['proceeds_mes']=df['proceeds_mes'].fillna(0)"
   ]
  },
  {
   "cell_type": "markdown",
   "metadata": {},
   "source": [
    "В какие то месяца пользователи не отправляли смс, поэтому заполнила выручку по сообщениям сверх тарифа нулями."
   ]
  },
  {
   "cell_type": "markdown",
   "metadata": {},
   "source": [
    "#####  Выручка по интернет-трафику сверх тарифа"
   ]
  },
  {
   "cell_type": "code",
   "execution_count": 41,
   "metadata": {},
   "outputs": [
    {
     "data": {
      "text/plain": [
       "2240    -308.708984\n",
       "2707   -1704.583984\n",
       "1326    1826.468750\n",
       "1985     126.263672\n",
       "423    -1652.701172\n",
       "283     1673.506348\n",
       "817     1300.423828\n",
       "248    -1515.767578\n",
       "1474   -2850.347656\n",
       "93     -2404.971680\n",
       "Name: proceeds_inet, dtype: float64"
      ]
     },
     "execution_count": 41,
     "metadata": {},
     "output_type": "execute_result"
    }
   ],
   "source": [
    "df['proceeds_inet']=(df['mb_used']-df['mb_per_month_included'])*df['rub_per_gb']/1024\n",
    "df['proceeds_inet'].sample(10)"
   ]
  },
  {
   "cell_type": "code",
   "execution_count": 42,
   "metadata": {},
   "outputs": [
    {
     "name": "stdout",
     "output_type": "stream",
     "text": [
      "<class 'pandas.core.frame.DataFrame'>\n",
      "Int64Index: 3201 entries, 0 to 3200\n",
      "Data columns (total 16 columns):\n",
      "user_id                  3201 non-null int64\n",
      "month                    3201 non-null int64\n",
      "tariff_name              3201 non-null object\n",
      "mb_used                  3201 non-null float64\n",
      "messages_included        3201 non-null int64\n",
      "mb_per_month_included    3201 non-null int64\n",
      "minutes_included         3201 non-null int64\n",
      "rub_monthly_fee          3201 non-null int64\n",
      "rub_per_gb               3201 non-null int64\n",
      "rub_per_message          3201 non-null int64\n",
      "rub_per_minute           3201 non-null int64\n",
      "duration                 3201 non-null float64\n",
      "count_mes                3201 non-null float64\n",
      "proceeds_cal             3201 non-null float64\n",
      "proceeds_mes             3201 non-null float64\n",
      "proceeds_inet            3201 non-null float64\n",
      "dtypes: float64(6), int64(9), object(1)\n",
      "memory usage: 425.1+ KB\n"
     ]
    }
   ],
   "source": [
    "df.info()"
   ]
  },
  {
   "cell_type": "code",
   "execution_count": 43,
   "metadata": {},
   "outputs": [],
   "source": [
    "df['proceeds_inet']=df['proceeds_inet'].fillna(0)"
   ]
  },
  {
   "cell_type": "markdown",
   "metadata": {},
   "source": [
    "Аналогично подчитала выручку для использованного сверх лимита трафика и заменила пропуски на 0."
   ]
  },
  {
   "cell_type": "markdown",
   "metadata": {},
   "source": [
    "#### Подсчет общей выручки"
   ]
  },
  {
   "cell_type": "markdown",
   "metadata": {},
   "source": [
    "Тут ниже функция, которая возвращает ту плату, которую абонент должен заплатить в месяц.\n",
    "Если абонент не привысил лимит ни по одному пункту (то есть все показатели меньше или равны 0), то обычная ежемесячная плата, если привысил, то ежемесячная плата плюс соответствующая рассчетная плата сверх тарифа.\n",
    "Возможно выглядит убого, но вроде бы работает."
   ]
  },
  {
   "cell_type": "markdown",
   "metadata": {},
   "source": [
    "Функцию убрала, заменила отрицательные на 0 и сложила все."
   ]
  },
  {
   "cell_type": "code",
   "execution_count": 44,
   "metadata": {},
   "outputs": [
    {
     "data": {
      "text/html": [
       "<div>\n",
       "<style scoped>\n",
       "    .dataframe tbody tr th:only-of-type {\n",
       "        vertical-align: middle;\n",
       "    }\n",
       "\n",
       "    .dataframe tbody tr th {\n",
       "        vertical-align: top;\n",
       "    }\n",
       "\n",
       "    .dataframe thead th {\n",
       "        text-align: right;\n",
       "    }\n",
       "</style>\n",
       "<table border=\"1\" class=\"dataframe\">\n",
       "  <thead>\n",
       "    <tr style=\"text-align: right;\">\n",
       "      <th></th>\n",
       "      <th>user_id</th>\n",
       "      <th>month</th>\n",
       "      <th>tariff_name</th>\n",
       "      <th>mb_used</th>\n",
       "      <th>messages_included</th>\n",
       "      <th>mb_per_month_included</th>\n",
       "      <th>minutes_included</th>\n",
       "      <th>rub_monthly_fee</th>\n",
       "      <th>rub_per_gb</th>\n",
       "      <th>rub_per_message</th>\n",
       "      <th>rub_per_minute</th>\n",
       "      <th>duration</th>\n",
       "      <th>count_mes</th>\n",
       "      <th>proceeds_cal</th>\n",
       "      <th>proceeds_mes</th>\n",
       "      <th>proceeds_inet</th>\n",
       "      <th>total_proceed</th>\n",
       "    </tr>\n",
       "  </thead>\n",
       "  <tbody>\n",
       "    <tr>\n",
       "      <td>2835</td>\n",
       "      <td>1422</td>\n",
       "      <td>11</td>\n",
       "      <td>smart</td>\n",
       "      <td>8449.47</td>\n",
       "      <td>50</td>\n",
       "      <td>15360</td>\n",
       "      <td>500</td>\n",
       "      <td>550</td>\n",
       "      <td>200</td>\n",
       "      <td>3</td>\n",
       "      <td>3</td>\n",
       "      <td>412.0</td>\n",
       "      <td>42.0</td>\n",
       "      <td>0.0</td>\n",
       "      <td>0.0</td>\n",
       "      <td>0.000000</td>\n",
       "      <td>550.000000</td>\n",
       "    </tr>\n",
       "    <tr>\n",
       "      <td>2267</td>\n",
       "      <td>1284</td>\n",
       "      <td>5</td>\n",
       "      <td>smart</td>\n",
       "      <td>20066.01</td>\n",
       "      <td>50</td>\n",
       "      <td>15360</td>\n",
       "      <td>500</td>\n",
       "      <td>550</td>\n",
       "      <td>200</td>\n",
       "      <td>3</td>\n",
       "      <td>3</td>\n",
       "      <td>631.0</td>\n",
       "      <td>36.0</td>\n",
       "      <td>393.0</td>\n",
       "      <td>0.0</td>\n",
       "      <td>919.142578</td>\n",
       "      <td>1862.142578</td>\n",
       "    </tr>\n",
       "    <tr>\n",
       "      <td>2263</td>\n",
       "      <td>1283</td>\n",
       "      <td>11</td>\n",
       "      <td>smart</td>\n",
       "      <td>18842.55</td>\n",
       "      <td>50</td>\n",
       "      <td>15360</td>\n",
       "      <td>500</td>\n",
       "      <td>550</td>\n",
       "      <td>200</td>\n",
       "      <td>3</td>\n",
       "      <td>3</td>\n",
       "      <td>264.0</td>\n",
       "      <td>19.0</td>\n",
       "      <td>0.0</td>\n",
       "      <td>0.0</td>\n",
       "      <td>680.185547</td>\n",
       "      <td>1230.185547</td>\n",
       "    </tr>\n",
       "    <tr>\n",
       "      <td>2005</td>\n",
       "      <td>1219</td>\n",
       "      <td>11</td>\n",
       "      <td>smart</td>\n",
       "      <td>21571.78</td>\n",
       "      <td>50</td>\n",
       "      <td>15360</td>\n",
       "      <td>500</td>\n",
       "      <td>550</td>\n",
       "      <td>200</td>\n",
       "      <td>3</td>\n",
       "      <td>3</td>\n",
       "      <td>463.0</td>\n",
       "      <td>7.0</td>\n",
       "      <td>0.0</td>\n",
       "      <td>0.0</td>\n",
       "      <td>1213.238281</td>\n",
       "      <td>1763.238281</td>\n",
       "    </tr>\n",
       "    <tr>\n",
       "      <td>3069</td>\n",
       "      <td>1475</td>\n",
       "      <td>5</td>\n",
       "      <td>smart</td>\n",
       "      <td>13670.79</td>\n",
       "      <td>50</td>\n",
       "      <td>15360</td>\n",
       "      <td>500</td>\n",
       "      <td>550</td>\n",
       "      <td>200</td>\n",
       "      <td>3</td>\n",
       "      <td>3</td>\n",
       "      <td>291.0</td>\n",
       "      <td>30.0</td>\n",
       "      <td>0.0</td>\n",
       "      <td>0.0</td>\n",
       "      <td>0.000000</td>\n",
       "      <td>550.000000</td>\n",
       "    </tr>\n",
       "    <tr>\n",
       "      <td>3038</td>\n",
       "      <td>1465</td>\n",
       "      <td>12</td>\n",
       "      <td>smart</td>\n",
       "      <td>16613.91</td>\n",
       "      <td>50</td>\n",
       "      <td>15360</td>\n",
       "      <td>500</td>\n",
       "      <td>550</td>\n",
       "      <td>200</td>\n",
       "      <td>3</td>\n",
       "      <td>3</td>\n",
       "      <td>592.0</td>\n",
       "      <td>55.0</td>\n",
       "      <td>276.0</td>\n",
       "      <td>15.0</td>\n",
       "      <td>244.904297</td>\n",
       "      <td>1085.904297</td>\n",
       "    </tr>\n",
       "    <tr>\n",
       "      <td>953</td>\n",
       "      <td>1476</td>\n",
       "      <td>9</td>\n",
       "      <td>ultra</td>\n",
       "      <td>18602.93</td>\n",
       "      <td>1000</td>\n",
       "      <td>30720</td>\n",
       "      <td>3000</td>\n",
       "      <td>1950</td>\n",
       "      <td>150</td>\n",
       "      <td>1</td>\n",
       "      <td>1</td>\n",
       "      <td>622.0</td>\n",
       "      <td>5.0</td>\n",
       "      <td>0.0</td>\n",
       "      <td>0.0</td>\n",
       "      <td>0.000000</td>\n",
       "      <td>1950.000000</td>\n",
       "    </tr>\n",
       "    <tr>\n",
       "      <td>520</td>\n",
       "      <td>1294</td>\n",
       "      <td>11</td>\n",
       "      <td>ultra</td>\n",
       "      <td>24550.03</td>\n",
       "      <td>1000</td>\n",
       "      <td>30720</td>\n",
       "      <td>3000</td>\n",
       "      <td>1950</td>\n",
       "      <td>150</td>\n",
       "      <td>1</td>\n",
       "      <td>1</td>\n",
       "      <td>267.0</td>\n",
       "      <td>26.0</td>\n",
       "      <td>0.0</td>\n",
       "      <td>0.0</td>\n",
       "      <td>0.000000</td>\n",
       "      <td>1950.000000</td>\n",
       "    </tr>\n",
       "    <tr>\n",
       "      <td>1610</td>\n",
       "      <td>1139</td>\n",
       "      <td>12</td>\n",
       "      <td>smart</td>\n",
       "      <td>15428.86</td>\n",
       "      <td>50</td>\n",
       "      <td>15360</td>\n",
       "      <td>500</td>\n",
       "      <td>550</td>\n",
       "      <td>200</td>\n",
       "      <td>3</td>\n",
       "      <td>3</td>\n",
       "      <td>572.0</td>\n",
       "      <td>53.0</td>\n",
       "      <td>216.0</td>\n",
       "      <td>9.0</td>\n",
       "      <td>13.449219</td>\n",
       "      <td>788.449219</td>\n",
       "    </tr>\n",
       "    <tr>\n",
       "      <td>1447</td>\n",
       "      <td>1108</td>\n",
       "      <td>11</td>\n",
       "      <td>smart</td>\n",
       "      <td>20406.02</td>\n",
       "      <td>50</td>\n",
       "      <td>15360</td>\n",
       "      <td>500</td>\n",
       "      <td>550</td>\n",
       "      <td>200</td>\n",
       "      <td>3</td>\n",
       "      <td>3</td>\n",
       "      <td>231.0</td>\n",
       "      <td>25.0</td>\n",
       "      <td>0.0</td>\n",
       "      <td>0.0</td>\n",
       "      <td>985.550781</td>\n",
       "      <td>1535.550781</td>\n",
       "    </tr>\n",
       "  </tbody>\n",
       "</table>\n",
       "</div>"
      ],
      "text/plain": [
       "      user_id  month tariff_name   mb_used  messages_included  \\\n",
       "2835     1422     11       smart   8449.47                 50   \n",
       "2267     1284      5       smart  20066.01                 50   \n",
       "2263     1283     11       smart  18842.55                 50   \n",
       "2005     1219     11       smart  21571.78                 50   \n",
       "3069     1475      5       smart  13670.79                 50   \n",
       "3038     1465     12       smart  16613.91                 50   \n",
       "953      1476      9       ultra  18602.93               1000   \n",
       "520      1294     11       ultra  24550.03               1000   \n",
       "1610     1139     12       smart  15428.86                 50   \n",
       "1447     1108     11       smart  20406.02                 50   \n",
       "\n",
       "      mb_per_month_included  minutes_included  rub_monthly_fee  rub_per_gb  \\\n",
       "2835                  15360               500              550         200   \n",
       "2267                  15360               500              550         200   \n",
       "2263                  15360               500              550         200   \n",
       "2005                  15360               500              550         200   \n",
       "3069                  15360               500              550         200   \n",
       "3038                  15360               500              550         200   \n",
       "953                   30720              3000             1950         150   \n",
       "520                   30720              3000             1950         150   \n",
       "1610                  15360               500              550         200   \n",
       "1447                  15360               500              550         200   \n",
       "\n",
       "      rub_per_message  rub_per_minute  duration  count_mes  proceeds_cal  \\\n",
       "2835                3               3     412.0       42.0           0.0   \n",
       "2267                3               3     631.0       36.0         393.0   \n",
       "2263                3               3     264.0       19.0           0.0   \n",
       "2005                3               3     463.0        7.0           0.0   \n",
       "3069                3               3     291.0       30.0           0.0   \n",
       "3038                3               3     592.0       55.0         276.0   \n",
       "953                 1               1     622.0        5.0           0.0   \n",
       "520                 1               1     267.0       26.0           0.0   \n",
       "1610                3               3     572.0       53.0         216.0   \n",
       "1447                3               3     231.0       25.0           0.0   \n",
       "\n",
       "      proceeds_mes  proceeds_inet  total_proceed  \n",
       "2835           0.0       0.000000     550.000000  \n",
       "2267           0.0     919.142578    1862.142578  \n",
       "2263           0.0     680.185547    1230.185547  \n",
       "2005           0.0    1213.238281    1763.238281  \n",
       "3069           0.0       0.000000     550.000000  \n",
       "3038          15.0     244.904297    1085.904297  \n",
       "953            0.0       0.000000    1950.000000  \n",
       "520            0.0       0.000000    1950.000000  \n",
       "1610           9.0      13.449219     788.449219  \n",
       "1447           0.0     985.550781    1535.550781  "
      ]
     },
     "execution_count": 44,
     "metadata": {},
     "output_type": "execute_result"
    }
   ],
   "source": [
    "df['proceeds_cal']=df['proceeds_cal'].clip(lower=0)\n",
    "df['proceeds_mes']=df['proceeds_mes'].clip(lower=0)\n",
    "df['proceeds_inet']=df['proceeds_inet'].clip(lower=0)\n",
    "    \n",
    "#новый столбец с общей выручкой    \n",
    "df['total_proceed']= df['proceeds_cal'] + df['proceeds_mes'] + df['proceeds_inet'] + df['rub_monthly_fee']\n",
    "    \n",
    "df.sample(10)    \n",
    "       "
   ]
  },
  {
   "cell_type": "code",
   "execution_count": 45,
   "metadata": {},
   "outputs": [
    {
     "name": "stdout",
     "output_type": "stream",
     "text": [
      "<class 'pandas.core.frame.DataFrame'>\n",
      "Int64Index: 3201 entries, 0 to 3200\n",
      "Data columns (total 17 columns):\n",
      "user_id                  3201 non-null int64\n",
      "month                    3201 non-null int64\n",
      "tariff_name              3201 non-null object\n",
      "mb_used                  3201 non-null float64\n",
      "messages_included        3201 non-null int64\n",
      "mb_per_month_included    3201 non-null int64\n",
      "minutes_included         3201 non-null int64\n",
      "rub_monthly_fee          3201 non-null int64\n",
      "rub_per_gb               3201 non-null int64\n",
      "rub_per_message          3201 non-null int64\n",
      "rub_per_minute           3201 non-null int64\n",
      "duration                 3201 non-null float64\n",
      "count_mes                3201 non-null float64\n",
      "proceeds_cal             3201 non-null int64\n",
      "proceeds_mes             3201 non-null int64\n",
      "proceeds_inet            3201 non-null int64\n",
      "total_proceed            3201 non-null int64\n",
      "dtypes: float64(3), int64(13), object(1)\n",
      "memory usage: 450.1+ KB\n"
     ]
    }
   ],
   "source": [
    "df['proceeds_cal']=df['proceeds_cal'].astype('int')\n",
    "df['proceeds_mes']=df['proceeds_mes'].astype('int')\n",
    "df['proceeds_inet']=df['proceeds_inet'].astype('int')\n",
    "df['total_proceed']=df['total_proceed'].astype('int')\n",
    "df.info()"
   ]
  },
  {
   "cell_type": "code",
   "execution_count": 46,
   "metadata": {},
   "outputs": [
    {
     "data": {
      "text/plain": [
       "tariff_name\n",
       "smart    1230.766951\n",
       "ultra    2061.040041\n",
       "Name: total_proceed, dtype: float64"
      ]
     },
     "execution_count": 46,
     "metadata": {},
     "output_type": "execute_result"
    }
   ],
   "source": [
    "# средняя выручка по тарифам\n",
    "df.groupby('tariff_name')['total_proceed'].mean()"
   ]
  },
  {
   "cell_type": "code",
   "execution_count": 47,
   "metadata": {},
   "outputs": [],
   "source": [
    "# df.pivot_table(index=['user_id', 'month'], columns ='tariff_name', values= 'total_proceed').plot(grid=True, figsize=(21, 6), style='o')\n",
    "# plt.title('Плата пользователей по месяцам с учетом переплат', fontsize=14)\n",
    "# plt.ylabel(\"Прибыль в рублях\")\n",
    "# plt.xlabel(\"Месяц\")\n",
    "# plt.show()"
   ]
  },
  {
   "cell_type": "code",
   "execution_count": 48,
   "metadata": {},
   "outputs": [
    {
     "data": {
      "image/png": "[encoded data removed]",
      "text/plain": [
       "<Figure size 432x288 with 1 Axes>"
      ]
     },
     "metadata": {
      "needs_background": "light"
     },
     "output_type": "display_data"
    }
   ],
   "source": [
    "df.groupby('tariff_name')['total_proceed'].hist(bins=20, range = (550, 4000))\n",
    "plt.title('Плата пользователей с учетом переплат', fontsize=14)\n",
    "plt.xlabel(\"Прибыль в рублях\")\n",
    "plt.ylabel(\"Количество пользователей\")\n",
    "plt.show()"
   ]
  },
  {
   "cell_type": "markdown",
   "metadata": {},
   "source": [
    "### Вывод\n",
    "Если я правильно посчитала, то по графику получается пользователи тарифа \"Смарт\" переплачивают сверх ежемесячной платы чаще, но средняя выручка у пользователей тарифа \"Ультра\" выше."
   ]
  },
  {
   "cell_type": "code",
   "execution_count": 49,
   "metadata": {},
   "outputs": [],
   "source": [
    "# убираю лишние столбцы\n",
    "df.drop(['messages_included', 'mb_per_month_included', 'minutes_included', 'rub_monthly_fee', 'rub_per_gb', 'rub_per_message', 'rub_per_minute'], axis='columns', inplace=True)"
   ]
  },
  {
   "cell_type": "code",
   "execution_count": 50,
   "metadata": {},
   "outputs": [],
   "source": [
    "df['total_proceed'] = df['total_proceed'].astype('int')\n"
   ]
  },
  {
   "cell_type": "code",
   "execution_count": 51,
   "metadata": {},
   "outputs": [
    {
     "name": "stdout",
     "output_type": "stream",
     "text": [
      "<class 'pandas.core.frame.DataFrame'>\n",
      "Int64Index: 3201 entries, 0 to 3200\n",
      "Data columns (total 10 columns):\n",
      "user_id          3201 non-null int64\n",
      "month            3201 non-null int64\n",
      "tariff_name      3201 non-null object\n",
      "mb_used          3201 non-null float64\n",
      "duration         3201 non-null float64\n",
      "count_mes        3201 non-null float64\n",
      "proceeds_cal     3201 non-null int64\n",
      "proceeds_mes     3201 non-null int64\n",
      "proceeds_inet    3201 non-null int64\n",
      "total_proceed    3201 non-null int64\n",
      "dtypes: float64(3), int64(6), object(1)\n",
      "memory usage: 435.1+ KB\n"
     ]
    }
   ],
   "source": [
    "df.info()"
   ]
  },
  {
   "cell_type": "markdown",
   "metadata": {},
   "source": [
    "### <span style=\"color:blue\"> Шаг 3: Анализ данных <span>"
   ]
  },
  {
   "cell_type": "markdown",
   "metadata": {},
   "source": [
    "#### Анализ длительности звонков в месяц"
   ]
  },
  {
   "cell_type": "markdown",
   "metadata": {},
   "source": [
    "Анализ по месяцам "
   ]
  },
  {
   "cell_type": "code",
   "execution_count": 52,
   "metadata": {},
   "outputs": [
    {
     "data": {
      "image/png": "[encoded data removed]",
      "text/plain": [
       "<Figure size 432x288 with 1 Axes>"
      ]
     },
     "metadata": {
      "needs_background": "light"
     },
     "output_type": "display_data"
    }
   ],
   "source": [
    "# отброшу пропущенные звонки и построю гистограмму длительности звонков\n",
    "df.query('duration >0').groupby('tariff_name')['duration'].hist(bins=100, range = (0, 1500))\n",
    "plt.title('Гисторгамма длительности звонков', fontsize=12)\n",
    "plt.ylabel(\"Количесвтво звонков\")\n",
    "plt.xlabel(\"Длительность\")\n",
    "plt.show()"
   ]
  },
  {
   "cell_type": "code",
   "execution_count": 53,
   "metadata": {},
   "outputs": [],
   "source": [
    "# Среднее\n",
    "mean_smart=df_cal.query('tariff_name == \"smart\"')['duration'].mean()\n",
    "mean_ultra=df_cal.query('tariff_name == \"ultra\"')['duration'].mean()"
   ]
  },
  {
   "cell_type": "code",
   "execution_count": 54,
   "metadata": {},
   "outputs": [],
   "source": [
    "# Медиана\n",
    "median_smart=df_cal.query('tariff_name == \"smart\"')['duration'].median()\n",
    "median_ultra=df_cal.query('tariff_name == \"ultra\"')['duration'].median()"
   ]
  },
  {
   "cell_type": "code",
   "execution_count": 55,
   "metadata": {},
   "outputs": [
    {
     "data": {
      "text/html": [
       "<div>\n",
       "<style scoped>\n",
       "    .dataframe tbody tr th:only-of-type {\n",
       "        vertical-align: middle;\n",
       "    }\n",
       "\n",
       "    .dataframe tbody tr th {\n",
       "        vertical-align: top;\n",
       "    }\n",
       "\n",
       "    .dataframe thead th {\n",
       "        text-align: right;\n",
       "    }\n",
       "</style>\n",
       "<table border=\"1\" class=\"dataframe\">\n",
       "  <thead>\n",
       "    <tr style=\"text-align: right;\">\n",
       "      <th></th>\n",
       "      <th>tariff_name</th>\n",
       "      <th>smart</th>\n",
       "      <th>ultra</th>\n",
       "    </tr>\n",
       "    <tr>\n",
       "      <th>month</th>\n",
       "      <th>user_id</th>\n",
       "      <th></th>\n",
       "      <th></th>\n",
       "    </tr>\n",
       "  </thead>\n",
       "  <tbody>\n",
       "    <tr>\n",
       "      <td rowspan=\"5\" valign=\"top\">1</td>\n",
       "      <td>1005</td>\n",
       "      <td>95.0</td>\n",
       "      <td>NaN</td>\n",
       "    </tr>\n",
       "    <tr>\n",
       "      <td>1032</td>\n",
       "      <td>380.0</td>\n",
       "      <td>NaN</td>\n",
       "    </tr>\n",
       "    <tr>\n",
       "      <td>1045</td>\n",
       "      <td>9.0</td>\n",
       "      <td>NaN</td>\n",
       "    </tr>\n",
       "    <tr>\n",
       "      <td>1055</td>\n",
       "      <td>551.0</td>\n",
       "      <td>NaN</td>\n",
       "    </tr>\n",
       "    <tr>\n",
       "      <td>1071</td>\n",
       "      <td>194.0</td>\n",
       "      <td>NaN</td>\n",
       "    </tr>\n",
       "    <tr>\n",
       "      <td>...</td>\n",
       "      <td>...</td>\n",
       "      <td>...</td>\n",
       "      <td>...</td>\n",
       "    </tr>\n",
       "    <tr>\n",
       "      <td rowspan=\"5\" valign=\"top\">12</td>\n",
       "      <td>1494</td>\n",
       "      <td>418.0</td>\n",
       "      <td>NaN</td>\n",
       "    </tr>\n",
       "    <tr>\n",
       "      <td>1495</td>\n",
       "      <td>NaN</td>\n",
       "      <td>1031.0</td>\n",
       "    </tr>\n",
       "    <tr>\n",
       "      <td>1496</td>\n",
       "      <td>518.0</td>\n",
       "      <td>NaN</td>\n",
       "    </tr>\n",
       "    <tr>\n",
       "      <td>1497</td>\n",
       "      <td>545.0</td>\n",
       "      <td>NaN</td>\n",
       "    </tr>\n",
       "    <tr>\n",
       "      <td>1499</td>\n",
       "      <td>492.0</td>\n",
       "      <td>NaN</td>\n",
       "    </tr>\n",
       "  </tbody>\n",
       "</table>\n",
       "<p>3201 rows × 2 columns</p>\n",
       "</div>"
      ],
      "text/plain": [
       "tariff_name    smart   ultra\n",
       "month user_id               \n",
       "1     1005      95.0     NaN\n",
       "      1032     380.0     NaN\n",
       "      1045       9.0     NaN\n",
       "      1055     551.0     NaN\n",
       "      1071     194.0     NaN\n",
       "...              ...     ...\n",
       "12    1494     418.0     NaN\n",
       "      1495       NaN  1031.0\n",
       "      1496     518.0     NaN\n",
       "      1497     545.0     NaN\n",
       "      1499     492.0     NaN\n",
       "\n",
       "[3201 rows x 2 columns]"
      ]
     },
     "execution_count": 55,
     "metadata": {},
     "output_type": "execute_result"
    }
   ],
   "source": [
    "# Средняя длительность разговоров по пользователям в месяц для разных тарифов\n",
    "df.pivot_table(index=['month', 'user_id'], columns = 'tariff_name', values='duration', aggfunc='mean')"
   ]
  },
  {
   "cell_type": "code",
   "execution_count": 56,
   "metadata": {},
   "outputs": [
    {
     "data": {
      "text/plain": [
       "35.50902238284609"
      ]
     },
     "execution_count": 56,
     "metadata": {},
     "output_type": "execute_result"
    }
   ],
   "source": [
    "# Диспeрсия smart\n",
    "d1 = df_cal.query('tariff_name == \"smart\"')\n",
    "variance_cal1 = np.var(d1['duration'])\n",
    "variance_cal1"
   ]
  },
  {
   "cell_type": "code",
   "execution_count": 57,
   "metadata": {},
   "outputs": [
    {
     "data": {
      "text/plain": [
       "35.515685427802744"
      ]
     },
     "execution_count": 57,
     "metadata": {},
     "output_type": "execute_result"
    }
   ],
   "source": [
    "# Диспeрсия ultra\n",
    "d2 = df_cal.query('tariff_name == \"ultra\"')\n",
    "variance_cal2 = np.var(d2['duration'])\n",
    "variance_cal2"
   ]
  },
  {
   "cell_type": "code",
   "execution_count": 58,
   "metadata": {},
   "outputs": [
    {
     "data": {
      "text/plain": [
       "5.9589447373546"
      ]
     },
     "execution_count": 58,
     "metadata": {},
     "output_type": "execute_result"
    }
   ],
   "source": [
    "# Стандартное отклонение smart\n",
    "standard_deviation_cal1 = np.std(d1['duration'])\n",
    "standard_deviation_cal1"
   ]
  },
  {
   "cell_type": "code",
   "execution_count": 59,
   "metadata": {},
   "outputs": [
    {
     "data": {
      "text/plain": [
       "5.9595037904009045"
      ]
     },
     "execution_count": 59,
     "metadata": {},
     "output_type": "execute_result"
    }
   ],
   "source": [
    "# Стандартное отклонение ultra\n",
    "standard_deviation_cal2 = np.std(d2['duration'])\n",
    "standard_deviation_cal2"
   ]
  },
  {
   "cell_type": "code",
   "execution_count": 60,
   "metadata": {},
   "outputs": [
    {
     "data": {
      "text/html": [
       "<div>\n",
       "<style scoped>\n",
       "    .dataframe tbody tr th:only-of-type {\n",
       "        vertical-align: middle;\n",
       "    }\n",
       "\n",
       "    .dataframe tbody tr th {\n",
       "        vertical-align: top;\n",
       "    }\n",
       "\n",
       "    .dataframe thead th {\n",
       "        text-align: right;\n",
       "    }\n",
       "</style>\n",
       "<table border=\"1\" class=\"dataframe\">\n",
       "  <thead>\n",
       "    <tr style=\"text-align: right;\">\n",
       "      <th></th>\n",
       "      <th>stat_name</th>\n",
       "      <th>smart</th>\n",
       "      <th>ultra</th>\n",
       "    </tr>\n",
       "  </thead>\n",
       "  <tbody>\n",
       "    <tr>\n",
       "      <td>0</td>\n",
       "      <td>среднее</td>\n",
       "      <td>7.148655</td>\n",
       "      <td>7.175400</td>\n",
       "    </tr>\n",
       "    <tr>\n",
       "      <td>1</td>\n",
       "      <td>медиана</td>\n",
       "      <td>6.000000</td>\n",
       "      <td>7.000000</td>\n",
       "    </tr>\n",
       "    <tr>\n",
       "      <td>2</td>\n",
       "      <td>дисперсия</td>\n",
       "      <td>35.509022</td>\n",
       "      <td>35.515685</td>\n",
       "    </tr>\n",
       "    <tr>\n",
       "      <td>3</td>\n",
       "      <td>стандартное отклонение</td>\n",
       "      <td>5.958945</td>\n",
       "      <td>5.958945</td>\n",
       "    </tr>\n",
       "  </tbody>\n",
       "</table>\n",
       "</div>"
      ],
      "text/plain": [
       "                stat_name      smart      ultra\n",
       "0                 среднее   7.148655   7.175400\n",
       "1                 медиана   6.000000   7.000000\n",
       "2               дисперсия  35.509022  35.515685\n",
       "3  стандартное отклонение   5.958945   5.958945"
      ]
     },
     "execution_count": 60,
     "metadata": {},
     "output_type": "execute_result"
    }
   ],
   "source": [
    "stat_cal = pd.DataFrame({'stat_name':['среднее', 'медиана', 'дисперсия','стандартное отклонение'], 'smart':[mean_smart, median_smart, variance_cal1,standard_deviation_cal1], 'ultra':[mean_ultra, median_ultra, variance_cal2,standard_deviation_cal1]})\n",
    "stat_cal"
   ]
  },
  {
   "cell_type": "markdown",
   "metadata": {},
   "source": [
    "По длительности разговоров пользователи обоих тарифов похожи, почти одинаковое среднее, дисперсия и стандартное отклонение,  но у пользователей \"Смарт\" большее количество звонков."
   ]
  },
  {
   "cell_type": "markdown",
   "metadata": {},
   "source": [
    "#### Анализ количества сообщений в месяц"
   ]
  },
  {
   "cell_type": "code",
   "execution_count": 61,
   "metadata": {},
   "outputs": [
    {
     "data": {
      "image/png": "[encoded data removed]",
      "text/plain": [
       "<Figure size 432x288 with 1 Axes>"
      ]
     },
     "metadata": {
      "needs_background": "light"
     },
     "output_type": "display_data"
    }
   ],
   "source": [
    "df.query('count_mes > 0').groupby('tariff_name')['count_mes'].hist(bins=100, range = (0, 200))\n",
    "plt.title('Гисторгамма количества сообщений', fontsize=12)\n",
    "plt.ylabel(\"Количесвтво пользователей\")\n",
    "plt.xlabel(\"Количество сообщений\")\n",
    "plt.show()"
   ]
  },
  {
   "cell_type": "code",
   "execution_count": 62,
   "metadata": {},
   "outputs": [
    {
     "data": {
      "text/html": [
       "<div>\n",
       "<style scoped>\n",
       "    .dataframe tbody tr th:only-of-type {\n",
       "        vertical-align: middle;\n",
       "    }\n",
       "\n",
       "    .dataframe tbody tr th {\n",
       "        vertical-align: top;\n",
       "    }\n",
       "\n",
       "    .dataframe thead th {\n",
       "        text-align: right;\n",
       "    }\n",
       "</style>\n",
       "<table border=\"1\" class=\"dataframe\">\n",
       "  <thead>\n",
       "    <tr style=\"text-align: right;\">\n",
       "      <th></th>\n",
       "      <th></th>\n",
       "      <th>smart</th>\n",
       "      <th>ultra</th>\n",
       "    </tr>\n",
       "    <tr>\n",
       "      <th>month</th>\n",
       "      <th>user_id</th>\n",
       "      <th></th>\n",
       "      <th></th>\n",
       "    </tr>\n",
       "  </thead>\n",
       "  <tbody>\n",
       "    <tr>\n",
       "      <td>4</td>\n",
       "      <td>1385</td>\n",
       "      <td>NaN</td>\n",
       "      <td>96.0</td>\n",
       "    </tr>\n",
       "    <tr>\n",
       "      <td>9</td>\n",
       "      <td>1064</td>\n",
       "      <td>33.0</td>\n",
       "      <td>NaN</td>\n",
       "    </tr>\n",
       "    <tr>\n",
       "      <td>11</td>\n",
       "      <td>1311</td>\n",
       "      <td>66.0</td>\n",
       "      <td>NaN</td>\n",
       "    </tr>\n",
       "    <tr>\n",
       "      <td>7</td>\n",
       "      <td>1359</td>\n",
       "      <td>5.0</td>\n",
       "      <td>NaN</td>\n",
       "    </tr>\n",
       "    <tr>\n",
       "      <td>9</td>\n",
       "      <td>1043</td>\n",
       "      <td>9.0</td>\n",
       "      <td>NaN</td>\n",
       "    </tr>\n",
       "  </tbody>\n",
       "</table>\n",
       "</div>"
      ],
      "text/plain": [
       "               smart  ultra\n",
       "month user_id              \n",
       "4     1385       NaN   96.0\n",
       "9     1064      33.0    NaN\n",
       "11    1311      66.0    NaN\n",
       "7     1359       5.0    NaN\n",
       "9     1043       9.0    NaN"
      ]
     },
     "execution_count": 62,
     "metadata": {},
     "output_type": "execute_result"
    }
   ],
   "source": [
    "df_mes['count']=1\n",
    "t = (df_mes.pivot_table(index=['month', 'user_id'], columns = 'tariff_name', values='count', aggfunc='sum'))\n",
    "t.columns=['smart', 'ultra']\n",
    "t.sample(5)"
   ]
  },
  {
   "cell_type": "code",
   "execution_count": 63,
   "metadata": {},
   "outputs": [],
   "source": [
    "# Среднее smart\n",
    "mean_smart = t['smart'].mean()\n",
    "median_smart = t['smart'].median()"
   ]
  },
  {
   "cell_type": "code",
   "execution_count": 64,
   "metadata": {},
   "outputs": [],
   "source": [
    "# Среднее ultra\n",
    "mean_ultra = t['ultra'].mean()\n",
    "median_ultra = t['ultra'].median()"
   ]
  },
  {
   "cell_type": "code",
   "execution_count": 65,
   "metadata": {},
   "outputs": [
    {
     "data": {
      "text/plain": [
       "717.2208431102272"
      ]
     },
     "execution_count": 65,
     "metadata": {},
     "output_type": "execute_result"
    }
   ],
   "source": [
    "# Диспeрсия smart\n",
    "variance_mes1 = np.var(t['smart'])\n",
    "variance_mes1"
   ]
  },
  {
   "cell_type": "code",
   "execution_count": 66,
   "metadata": {},
   "outputs": [
    {
     "data": {
      "text/plain": [
       "2107.0055235156838"
      ]
     },
     "execution_count": 66,
     "metadata": {},
     "output_type": "execute_result"
    }
   ],
   "source": [
    "# Диспeрсия ultra\n",
    "variance_mes2 = np.var(t['ultra'])\n",
    "variance_mes2"
   ]
  },
  {
   "cell_type": "code",
   "execution_count": 67,
   "metadata": {},
   "outputs": [
    {
     "data": {
      "text/plain": [
       "26.78097912904282"
      ]
     },
     "execution_count": 67,
     "metadata": {},
     "output_type": "execute_result"
    }
   ],
   "source": [
    "# Стандартное отклонение\n",
    "standard_deviation_mes1 = np.std(t['smart'])\n",
    "standard_deviation_mes1"
   ]
  },
  {
   "cell_type": "code",
   "execution_count": 68,
   "metadata": {},
   "outputs": [
    {
     "data": {
      "text/plain": [
       "45.90212983637779"
      ]
     },
     "execution_count": 68,
     "metadata": {},
     "output_type": "execute_result"
    }
   ],
   "source": [
    "# Стандартное отклонение\n",
    "standard_deviation_mes2 = np.std(t['ultra'])\n",
    "standard_deviation_mes2"
   ]
  },
  {
   "cell_type": "markdown",
   "metadata": {},
   "source": [
    "По количеству отправляемых сообщений в месяц пользователи разных тарифов совсем не похожи. Среднее количество сообщений у Ультра почти в два раза больше, дисперсия в 3 раза больще и стандартное отклонение почти в два раза больше."
   ]
  },
  {
   "cell_type": "code",
   "execution_count": 69,
   "metadata": {},
   "outputs": [
    {
     "data": {
      "text/html": [
       "<div>\n",
       "<style scoped>\n",
       "    .dataframe tbody tr th:only-of-type {\n",
       "        vertical-align: middle;\n",
       "    }\n",
       "\n",
       "    .dataframe tbody tr th {\n",
       "        vertical-align: top;\n",
       "    }\n",
       "\n",
       "    .dataframe thead th {\n",
       "        text-align: right;\n",
       "    }\n",
       "</style>\n",
       "<table border=\"1\" class=\"dataframe\">\n",
       "  <thead>\n",
       "    <tr style=\"text-align: right;\">\n",
       "      <th></th>\n",
       "      <th>stat_name</th>\n",
       "      <th>smart</th>\n",
       "      <th>ultra</th>\n",
       "    </tr>\n",
       "  </thead>\n",
       "  <tbody>\n",
       "    <tr>\n",
       "      <td>0</td>\n",
       "      <td>среднее</td>\n",
       "      <td>38.716441</td>\n",
       "      <td>61.161006</td>\n",
       "    </tr>\n",
       "    <tr>\n",
       "      <td>1</td>\n",
       "      <td>медиана</td>\n",
       "      <td>34.000000</td>\n",
       "      <td>51.000000</td>\n",
       "    </tr>\n",
       "    <tr>\n",
       "      <td>2</td>\n",
       "      <td>дисперсия</td>\n",
       "      <td>717.220843</td>\n",
       "      <td>2107.005524</td>\n",
       "    </tr>\n",
       "    <tr>\n",
       "      <td>3</td>\n",
       "      <td>стандартное отклонение</td>\n",
       "      <td>26.780979</td>\n",
       "      <td>26.780979</td>\n",
       "    </tr>\n",
       "  </tbody>\n",
       "</table>\n",
       "</div>"
      ],
      "text/plain": [
       "                stat_name       smart        ultra\n",
       "0                 среднее   38.716441    61.161006\n",
       "1                 медиана   34.000000    51.000000\n",
       "2               дисперсия  717.220843  2107.005524\n",
       "3  стандартное отклонение   26.780979    26.780979"
      ]
     },
     "execution_count": 69,
     "metadata": {},
     "output_type": "execute_result"
    }
   ],
   "source": [
    "stat_mes = pd.DataFrame({'stat_name':['среднее', 'медиана', 'дисперсия','стандартное отклонение'], 'smart':[mean_smart, median_smart, variance_mes1,standard_deviation_mes1], 'ultra':[mean_ultra, median_ultra, variance_mes2,standard_deviation_mes1]})\n",
    "stat_mes"
   ]
  },
  {
   "cell_type": "markdown",
   "metadata": {},
   "source": [
    "#### Анализ трафика в месяц"
   ]
  },
  {
   "cell_type": "code",
   "execution_count": 70,
   "metadata": {},
   "outputs": [
    {
     "data": {
      "image/png": "[encoded data removed]",
      "text/plain": [
       "<Figure size 432x288 with 1 Axes>"
      ]
     },
     "metadata": {
      "needs_background": "light"
     },
     "output_type": "display_data"
    }
   ],
   "source": [
    "df.groupby('tariff_name')['mb_used'].hist(bins=100, range = (0, 40000))\n",
    "plt.title('Гисторгамма потраченного трафика в МБ', fontsize=12)\n",
    "plt.xlabel(\"Количесвтво МБ\")\n",
    "plt.ylabel(\"Количество пользователей\")\n",
    "plt.show()"
   ]
  },
  {
   "cell_type": "code",
   "execution_count": 71,
   "metadata": {},
   "outputs": [],
   "source": [
    "# Среднее\n",
    "mean_smart = df.query('tariff_name == \"smart\"')['mb_used'].mean()\n",
    "mean_ultra = df.query('tariff_name == \"ultra\"')['mb_used'].mean()"
   ]
  },
  {
   "cell_type": "code",
   "execution_count": 72,
   "metadata": {},
   "outputs": [],
   "source": [
    "# Медиана\n",
    "median_smart = df.query('tariff_name == \"smart\"')['mb_used'].median()\n",
    "median_ultra = df.query('tariff_name == \"ultra\"')['mb_used'].median()"
   ]
  },
  {
   "cell_type": "code",
   "execution_count": 73,
   "metadata": {},
   "outputs": [
    {
     "data": {
      "text/plain": [
       "34241826.05955689"
      ]
     },
     "execution_count": 73,
     "metadata": {},
     "output_type": "execute_result"
    }
   ],
   "source": [
    "# Диспeрсия smart\n",
    "d1 = df.query('tariff_name == \"smart\"')\n",
    "variance_inet1 = np.var(d1['mb_used'])\n",
    "variance_inet1"
   ]
  },
  {
   "cell_type": "code",
   "execution_count": 74,
   "metadata": {},
   "outputs": [
    {
     "data": {
      "text/plain": [
       "98466665.28900848"
      ]
     },
     "execution_count": 74,
     "metadata": {},
     "output_type": "execute_result"
    }
   ],
   "source": [
    "# Диспeрсия ultra\n",
    "d2 = df.query('tariff_name == \"ultra\"')\n",
    "variance_inet2 = np.var(d2['mb_used'])\n",
    "variance_inet2"
   ]
  },
  {
   "cell_type": "code",
   "execution_count": 75,
   "metadata": {},
   "outputs": [
    {
     "data": {
      "text/plain": [
       "5851.651566827683"
      ]
     },
     "execution_count": 75,
     "metadata": {},
     "output_type": "execute_result"
    }
   ],
   "source": [
    "# Стандартное отклонение smart\n",
    "standard_deviation_inet1 = np.std(d1['mb_used'])\n",
    "standard_deviation_inet1"
   ]
  },
  {
   "cell_type": "code",
   "execution_count": 76,
   "metadata": {
    "scrolled": true
   },
   "outputs": [
    {
     "data": {
      "text/plain": [
       "9923.037100052004"
      ]
     },
     "execution_count": 76,
     "metadata": {},
     "output_type": "execute_result"
    }
   ],
   "source": [
    "# Стандартное отклонение ultra\n",
    "standard_deviation_inet2 = np.std(d2['mb_used'])\n",
    "standard_deviation_inet2"
   ]
  },
  {
   "cell_type": "code",
   "execution_count": 77,
   "metadata": {},
   "outputs": [
    {
     "data": {
      "text/html": [
       "<div>\n",
       "<style scoped>\n",
       "    .dataframe tbody tr th:only-of-type {\n",
       "        vertical-align: middle;\n",
       "    }\n",
       "\n",
       "    .dataframe tbody tr th {\n",
       "        vertical-align: top;\n",
       "    }\n",
       "\n",
       "    .dataframe thead th {\n",
       "        text-align: right;\n",
       "    }\n",
       "</style>\n",
       "<table border=\"1\" class=\"dataframe\">\n",
       "  <thead>\n",
       "    <tr style=\"text-align: right;\">\n",
       "      <th></th>\n",
       "      <th>stat_name</th>\n",
       "      <th>smart</th>\n",
       "      <th>ultra</th>\n",
       "    </tr>\n",
       "  </thead>\n",
       "  <tbody>\n",
       "    <tr>\n",
       "      <td>0</td>\n",
       "      <td>среднее</td>\n",
       "      <td>1.622294e+04</td>\n",
       "      <td>1.968868e+04</td>\n",
       "    </tr>\n",
       "    <tr>\n",
       "      <td>1</td>\n",
       "      <td>медиана</td>\n",
       "      <td>1.650864e+04</td>\n",
       "      <td>1.940903e+04</td>\n",
       "    </tr>\n",
       "    <tr>\n",
       "      <td>2</td>\n",
       "      <td>дисперсия</td>\n",
       "      <td>3.424183e+07</td>\n",
       "      <td>9.846667e+07</td>\n",
       "    </tr>\n",
       "    <tr>\n",
       "      <td>3</td>\n",
       "      <td>стандартное отклонение</td>\n",
       "      <td>5.851652e+03</td>\n",
       "      <td>5.851652e+03</td>\n",
       "    </tr>\n",
       "  </tbody>\n",
       "</table>\n",
       "</div>"
      ],
      "text/plain": [
       "                stat_name         smart         ultra\n",
       "0                 среднее  1.622294e+04  1.968868e+04\n",
       "1                 медиана  1.650864e+04  1.940903e+04\n",
       "2               дисперсия  3.424183e+07  9.846667e+07\n",
       "3  стандартное отклонение  5.851652e+03  5.851652e+03"
      ]
     },
     "execution_count": 77,
     "metadata": {},
     "output_type": "execute_result"
    }
   ],
   "source": [
    "stat_inet = pd.DataFrame({'stat_name':['среднее', 'медиана', 'дисперсия','стандартное отклонение'], 'smart':[mean_smart, median_smart, variance_inet1,standard_deviation_inet1], 'ultra':[mean_ultra, median_ultra, variance_inet2,standard_deviation_inet1]})\n",
    "stat_inet"
   ]
  },
  {
   "cell_type": "markdown",
   "metadata": {},
   "source": [
    "Среднее значение расходуемых МБ отличается, но не так сильно как с сообщениями. А вот дисперсия Ультра почти в 3 раза больше и почти в 2 раза стандартное отклонение."
   ]
  },
  {
   "cell_type": "markdown",
   "metadata": {},
   "source": [
    "### <span style=\"color:blue\"> Шаг 4: Проверка гипотезы <span>"
   ]
  },
  {
   "cell_type": "markdown",
   "metadata": {},
   "source": [
    "Необходимо проверить:\n",
    "1. средняя выручка пользователей тарифа «Ультра» больше чем у «Смарт»;\n",
    "2. средняя выручка пользователей из Москвы отличается от выручки пользователей из других регионов."
   ]
  },
  {
   "cell_type": "markdown",
   "metadata": {},
   "source": [
    "#### Гипотеза о выручке разных тарифов"
   ]
  },
  {
   "cell_type": "code",
   "execution_count": 78,
   "metadata": {},
   "outputs": [
    {
     "data": {
      "text/html": [
       "<div>\n",
       "<style scoped>\n",
       "    .dataframe tbody tr th:only-of-type {\n",
       "        vertical-align: middle;\n",
       "    }\n",
       "\n",
       "    .dataframe tbody tr th {\n",
       "        vertical-align: top;\n",
       "    }\n",
       "\n",
       "    .dataframe thead th {\n",
       "        text-align: right;\n",
       "    }\n",
       "</style>\n",
       "<table border=\"1\" class=\"dataframe\">\n",
       "  <thead>\n",
       "    <tr style=\"text-align: right;\">\n",
       "      <th></th>\n",
       "      <th>count</th>\n",
       "      <th>mean</th>\n",
       "    </tr>\n",
       "    <tr>\n",
       "      <th>tariff_name</th>\n",
       "      <th></th>\n",
       "      <th></th>\n",
       "    </tr>\n",
       "  </thead>\n",
       "  <tbody>\n",
       "    <tr>\n",
       "      <td>smart</td>\n",
       "      <td>2227.0</td>\n",
       "      <td>1230.766951</td>\n",
       "    </tr>\n",
       "    <tr>\n",
       "      <td>ultra</td>\n",
       "      <td>974.0</td>\n",
       "      <td>2061.040041</td>\n",
       "    </tr>\n",
       "  </tbody>\n",
       "</table>\n",
       "</div>"
      ],
      "text/plain": [
       "              count         mean\n",
       "tariff_name                     \n",
       "smart        2227.0  1230.766951\n",
       "ultra         974.0  2061.040041"
      ]
     },
     "execution_count": 78,
     "metadata": {},
     "output_type": "execute_result"
    }
   ],
   "source": [
    "df.pivot_table(index='tariff_name', values='total_proceed', aggfunc=('mean', 'count'))"
   ]
  },
  {
   "cell_type": "code",
   "execution_count": 79,
   "metadata": {},
   "outputs": [],
   "source": [
    "# разделила на два датафрейма пользователей по тарифам\n",
    "ultra = df.query('tariff_name == \"ultra\"')\n",
    "smart = df.query('tariff_name == \"smart\"')"
   ]
  },
  {
   "cell_type": "code",
   "execution_count": 80,
   "metadata": {},
   "outputs": [
    {
     "data": {
      "text/plain": [
       "126997.54357125088"
      ]
     },
     "execution_count": 80,
     "metadata": {},
     "output_type": "execute_result"
    }
   ],
   "source": [
    "#дисперсия выручки Ультра\n",
    "variance_ultra = np.var(ultra['total_proceed'])\n",
    "variance_ultra"
   ]
  },
  {
   "cell_type": "code",
   "execution_count": 81,
   "metadata": {},
   "outputs": [
    {
     "data": {
      "text/plain": [
       "616980.6367524012"
      ]
     },
     "execution_count": 81,
     "metadata": {},
     "output_type": "execute_result"
    }
   ],
   "source": [
    "#дисперсия выручки Смарт\n",
    "variance_smart = np.var(smart['total_proceed'])\n",
    "variance_smart"
   ]
  },
  {
   "cell_type": "markdown",
   "metadata": {},
   "source": [
    "По среднему из сводной таблицы видно, что выручка Ультра почти в два раза больше. Проверяю случайно ли так получилось. Для проверки использую метод scipy.stats.ttest_ind, поскольку я решила что это две разные генеральные совокупности."
   ]
  },
  {
   "cell_type": "markdown",
   "metadata": {},
   "source": [
    " - Нулевая гипотеза Н0: средняя выручка пользователей тарифа «Ультра» равна средней выручке у «Смарт»\n",
    " - Альтернативная гипотеза Н1: средняя выручка пользователей тарифа «Ультра» больше чем у «Смарт»"
   ]
  },
  {
   "cell_type": "code",
   "execution_count": 82,
   "metadata": {},
   "outputs": [
    {
     "name": "stdout",
     "output_type": "stream",
     "text": [
      "p-значение: 4.84224917082508e-297\n",
      "Отвергаем нулевую гипотезу\n"
     ]
    }
   ],
   "source": [
    "#проверка нулевой гипотезы : средняя выручка пользователей тарифа «Ультра» равна выручке «Смарт»\n",
    "\n",
    "\n",
    "u = ultra['total_proceed']\n",
    "s = smart['total_proceed']\n",
    "\n",
    "alpha = .01 \n",
    "\n",
    "results = st.ttest_ind(\n",
    "    u, \n",
    "    s, equal_var = False)\n",
    "\n",
    "print('p-значение:', results.pvalue)\n",
    "\n",
    "if (results.pvalue  < alpha / 2) and (u.mean() > s.mean()):\n",
    "    print(\"Отвергаем нулевую гипотезу\")\n",
    "else:\n",
    "    print(\"Не получилось отвергнуть нулевую гипотезу\")"
   ]
  },
  {
   "cell_type": "markdown",
   "metadata": {},
   "source": [
    "#### Гипотеза о выручке в Мск и регионах"
   ]
  },
  {
   "cell_type": "markdown",
   "metadata": {},
   "source": [
    "Соединяю в новую таблицу данные о выручке по пользователям и данные о городах пользователей."
   ]
  },
  {
   "cell_type": "code",
   "execution_count": 83,
   "metadata": {},
   "outputs": [],
   "source": [
    "df_city = df.merge(us, on='user_id')"
   ]
  },
  {
   "cell_type": "markdown",
   "metadata": {},
   "source": [
    "Разделила на две выборки: пользователи из Москвы и пользователи из регионов."
   ]
  },
  {
   "cell_type": "code",
   "execution_count": 84,
   "metadata": {},
   "outputs": [],
   "source": [
    "moscow = df_city.query('city == \"Москва\"')\n",
    "region = df_city.query('city != \"Москва\"')"
   ]
  },
  {
   "cell_type": "code",
   "execution_count": 85,
   "metadata": {},
   "outputs": [
    {
     "data": {
      "text/plain": [
       "1505.039279869067"
      ]
     },
     "execution_count": 85,
     "metadata": {},
     "output_type": "execute_result"
    }
   ],
   "source": [
    "#средняя выручка в Москве\n",
    "moscow['total_proceed'].mean()"
   ]
  },
  {
   "cell_type": "code",
   "execution_count": 86,
   "metadata": {},
   "outputs": [
    {
     "data": {
      "text/plain": [
       "1478.2980694980695"
      ]
     },
     "execution_count": 86,
     "metadata": {},
     "output_type": "execute_result"
    }
   ],
   "source": [
    "#средняя выручка в регионах\n",
    "region['total_proceed'].mean()"
   ]
  },
  {
   "cell_type": "code",
   "execution_count": 87,
   "metadata": {},
   "outputs": [
    {
     "data": {
      "text/plain": [
       "544974.2635962081"
      ]
     },
     "execution_count": 87,
     "metadata": {},
     "output_type": "execute_result"
    }
   ],
   "source": [
    "#дисперсия выручки в Москве\n",
    "variance_moscow = np.var(moscow['total_proceed'])\n",
    "variance_moscow"
   ]
  },
  {
   "cell_type": "code",
   "execution_count": 88,
   "metadata": {},
   "outputs": [
    {
     "data": {
      "text/plain": [
       "629925.1644364276"
      ]
     },
     "execution_count": 88,
     "metadata": {},
     "output_type": "execute_result"
    }
   ],
   "source": [
    "#дисперсия выручки в регионах\n",
    "variance_region = np.var(region['total_proceed'])\n",
    "variance_region"
   ]
  },
  {
   "cell_type": "markdown",
   "metadata": {},
   "source": [
    "Дисперсии не равны, ставлю equal_var = False."
   ]
  },
  {
   "cell_type": "markdown",
   "metadata": {},
   "source": [
    " - Нулевая  гипотеза Н0: средняя выручка пользователей из Москвы равна выручке пользователей из других регионов\n",
    " - Альтерантивная гипотеза Н1: средняя выручка пользователей из Москвы не равна выручке пользователей из других регионов"
   ]
  },
  {
   "cell_type": "markdown",
   "metadata": {},
   "source": [
    "Так как в проекте не просят уточнить где выручка больше, а задание звучит как: \"проверте гипотезу средняя выручка пользователей из Москвы отличается от выручки пользователей из других регионов\". Я решила тут оставить двухсторонюю гипотезу и проверить только на равенство."
   ]
  },
  {
   "cell_type": "code",
   "execution_count": 89,
   "metadata": {},
   "outputs": [
    {
     "name": "stdout",
     "output_type": "stream",
     "text": [
      "p-значение:  0.427883078569677\n",
      "Не получилось отвергнуть нулевую гипотезу\n"
     ]
    }
   ],
   "source": [
    "#проверка нулевой гипотезы: средняя выручка пользователей из Москвы равна выручке пользователей из других регионов\n",
    "\n",
    "\n",
    "m = moscow['total_proceed']\n",
    "r = region['total_proceed']\n",
    "\n",
    "alpha = .01\n",
    "\n",
    "results = st.ttest_ind(\n",
    "    m, \n",
    "    r, equal_var = False)\n",
    "\n",
    "print('p-значение: ', results.pvalue)\n",
    "\n",
    "if (results.pvalue < alpha):\n",
    "    print(\"Отвергаем нулевую гипотезу\")\n",
    "else:\n",
    "    print(\"Не получилось отвергнуть нулевую гипотезу\")"
   ]
  },
  {
   "cell_type": "markdown",
   "metadata": {},
   "source": [
    "Значение pvalue большое. Это значит, что с очень большой вероятностью средняя выручка в Москве и регионах будет одинаковая."
   ]
  },
  {
   "cell_type": "markdown",
   "metadata": {},
   "source": [
    "Я тут сомневалась и пробовала метод scipy.stats.ttest_rel(), потому что не очень поняла разницу между rel и ind, но результат был одинаковый, нулевая гипотеза не отвергалась. Добавила тут equal_var = True, решила что выборки взяты из схожих по параметрам совокупностей, так как там есть представители обоих тарифов. "
   ]
  },
  {
   "cell_type": "markdown",
   "metadata": {},
   "source": [
    "### <span style=\"color:blue\"> Вывод <span>"
   ]
  },
  {
   "cell_type": "markdown",
   "metadata": {},
   "source": [
    "1. выручка от тарифа \"Ультра\" больше, чем от \"Смарт\"\n",
    "2. средняя выручка в Москве и в регионах не отличается\n",
    " \n",
    "Статистически выходит, что для оператора лучше оставить тариф \"Ультра\", но я ставя себя на место пользователя отказалась бы от такого тарифа. Если бы оператор сказал мне, что все тарифа \"Смарт\" больше не будет, переходи на \"Ульта\", скорее всего я сменила бы оператора. Т.к. стоимость тарифа \"Ультра\" в три раза больше. Даже в выборке из 500 человек тут, 351 пользуются \"Смарт\", при резком изменении тарифного плана оператор рискует потерять большую часть клиентов. \n",
    " "
   ]
  }
 ],
 "metadata": {
  "kernelspec": {
   "display_name": "Python 3",
   "language": "python",
   "name": "python3"
  },
  "language_info": {
   "codemirror_mode": {
    "name": "ipython",
    "version": 3
   },
   "file_extension": ".py",
   "mimetype": "text/x-python",
   "name": "python",
   "nbconvert_exporter": "python",
   "pygments_lexer": "ipython3",
   "version": "3.7.6"
  }
 },
 "nbformat": 4,
 "nbformat_minor": 2
}
